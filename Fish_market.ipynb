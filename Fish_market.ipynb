{
  "nbformat": 4,
  "nbformat_minor": 0,
  "metadata": {
    "colab": {
      "name": "Fish_market.ipynb",
      "provenance": [],
      "collapsed_sections": []
    },
    "kernelspec": {
      "name": "python3",
      "display_name": "Python 3"
    }
  },
  "cells": [
    {
      "cell_type": "code",
      "metadata": {
        "id": "8ne-Eb0_Awbe"
      },
      "source": [
        "# Supress Warnings\n",
        "\n",
        "import warnings\n",
        "warnings.filterwarnings('ignore')"
      ],
      "execution_count": 1,
      "outputs": []
    },
    {
      "cell_type": "code",
      "metadata": {
        "id": "k-YPRGUMBcXQ"
      },
      "source": [
        "# Import required libraries\n",
        "\n",
        "import numpy as np\n",
        "import pandas as pd\n",
        "import matplotlib.pyplot as plt\n",
        "import seaborn as sns"
      ],
      "execution_count": 2,
      "outputs": []
    },
    {
      "cell_type": "code",
      "metadata": {
        "id": "uJugtx5dBcbk"
      },
      "source": [
        "# Import data from github\n",
        "\n",
        "url = 'https://raw.githubusercontent.com/bhavna9719/fish_market/master/Fish.csv'\n",
        "fish = pd.read_csv(url)"
      ],
      "execution_count": 3,
      "outputs": []
    },
    {
      "cell_type": "code",
      "metadata": {
        "id": "MhPMI1_rBcgc",
        "outputId": "778b2be0-143b-4822-d3e8-7ae77b3d9ed3",
        "colab": {
          "base_uri": "https://localhost:8080/",
          "height": 197
        }
      },
      "source": [
        "# First 5 rows of df\n",
        "\n",
        "fish.head()"
      ],
      "execution_count": 4,
      "outputs": [
        {
          "output_type": "execute_result",
          "data": {
            "text/html": [
              "<div>\n",
              "<style scoped>\n",
              "    .dataframe tbody tr th:only-of-type {\n",
              "        vertical-align: middle;\n",
              "    }\n",
              "\n",
              "    .dataframe tbody tr th {\n",
              "        vertical-align: top;\n",
              "    }\n",
              "\n",
              "    .dataframe thead th {\n",
              "        text-align: right;\n",
              "    }\n",
              "</style>\n",
              "<table border=\"1\" class=\"dataframe\">\n",
              "  <thead>\n",
              "    <tr style=\"text-align: right;\">\n",
              "      <th></th>\n",
              "      <th>Species</th>\n",
              "      <th>Weight</th>\n",
              "      <th>Length1</th>\n",
              "      <th>Length2</th>\n",
              "      <th>Length3</th>\n",
              "      <th>Height</th>\n",
              "      <th>Width</th>\n",
              "    </tr>\n",
              "  </thead>\n",
              "  <tbody>\n",
              "    <tr>\n",
              "      <th>0</th>\n",
              "      <td>Bream</td>\n",
              "      <td>242.0</td>\n",
              "      <td>23.2</td>\n",
              "      <td>25.4</td>\n",
              "      <td>30.0</td>\n",
              "      <td>11.5200</td>\n",
              "      <td>4.0200</td>\n",
              "    </tr>\n",
              "    <tr>\n",
              "      <th>1</th>\n",
              "      <td>Bream</td>\n",
              "      <td>290.0</td>\n",
              "      <td>24.0</td>\n",
              "      <td>26.3</td>\n",
              "      <td>31.2</td>\n",
              "      <td>12.4800</td>\n",
              "      <td>4.3056</td>\n",
              "    </tr>\n",
              "    <tr>\n",
              "      <th>2</th>\n",
              "      <td>Bream</td>\n",
              "      <td>340.0</td>\n",
              "      <td>23.9</td>\n",
              "      <td>26.5</td>\n",
              "      <td>31.1</td>\n",
              "      <td>12.3778</td>\n",
              "      <td>4.6961</td>\n",
              "    </tr>\n",
              "    <tr>\n",
              "      <th>3</th>\n",
              "      <td>Bream</td>\n",
              "      <td>363.0</td>\n",
              "      <td>26.3</td>\n",
              "      <td>29.0</td>\n",
              "      <td>33.5</td>\n",
              "      <td>12.7300</td>\n",
              "      <td>4.4555</td>\n",
              "    </tr>\n",
              "    <tr>\n",
              "      <th>4</th>\n",
              "      <td>Bream</td>\n",
              "      <td>430.0</td>\n",
              "      <td>26.5</td>\n",
              "      <td>29.0</td>\n",
              "      <td>34.0</td>\n",
              "      <td>12.4440</td>\n",
              "      <td>5.1340</td>\n",
              "    </tr>\n",
              "  </tbody>\n",
              "</table>\n",
              "</div>"
            ],
            "text/plain": [
              "  Species  Weight  Length1  Length2  Length3   Height   Width\n",
              "0   Bream   242.0     23.2     25.4     30.0  11.5200  4.0200\n",
              "1   Bream   290.0     24.0     26.3     31.2  12.4800  4.3056\n",
              "2   Bream   340.0     23.9     26.5     31.1  12.3778  4.6961\n",
              "3   Bream   363.0     26.3     29.0     33.5  12.7300  4.4555\n",
              "4   Bream   430.0     26.5     29.0     34.0  12.4440  5.1340"
            ]
          },
          "metadata": {
            "tags": []
          },
          "execution_count": 4
        }
      ]
    },
    {
      "cell_type": "code",
      "metadata": {
        "id": "zTF0-YmSBcjJ",
        "outputId": "b4d7db29-29e5-45c7-f16c-787d4d4357be",
        "colab": {
          "base_uri": "https://localhost:8080/",
          "height": 34
        }
      },
      "source": [
        "# Rows and columns count\n",
        "\n",
        "fish.shape"
      ],
      "execution_count": 5,
      "outputs": [
        {
          "output_type": "execute_result",
          "data": {
            "text/plain": [
              "(159, 7)"
            ]
          },
          "metadata": {
            "tags": []
          },
          "execution_count": 5
        }
      ]
    },
    {
      "cell_type": "code",
      "metadata": {
        "id": "W134ePp3BcrC",
        "outputId": "0608424f-02b0-4825-89db-9bec1ee76f28",
        "colab": {
          "base_uri": "https://localhost:8080/",
          "height": 265
        }
      },
      "source": [
        "# Datatypes, null value check\n",
        "\n",
        "fish.info()"
      ],
      "execution_count": 6,
      "outputs": [
        {
          "output_type": "stream",
          "text": [
            "<class 'pandas.core.frame.DataFrame'>\n",
            "RangeIndex: 159 entries, 0 to 158\n",
            "Data columns (total 7 columns):\n",
            " #   Column   Non-Null Count  Dtype  \n",
            "---  ------   --------------  -----  \n",
            " 0   Species  159 non-null    object \n",
            " 1   Weight   159 non-null    float64\n",
            " 2   Length1  159 non-null    float64\n",
            " 3   Length2  159 non-null    float64\n",
            " 4   Length3  159 non-null    float64\n",
            " 5   Height   159 non-null    float64\n",
            " 6   Width    159 non-null    float64\n",
            "dtypes: float64(6), object(1)\n",
            "memory usage: 8.8+ KB\n"
          ],
          "name": "stdout"
        }
      ]
    },
    {
      "cell_type": "code",
      "metadata": {
        "id": "Ey7hh6ZwDPNW",
        "outputId": "670e1818-b88a-4618-8806-14444d47561d",
        "colab": {
          "base_uri": "https://localhost:8080/",
          "height": 287
        }
      },
      "source": [
        "# Statistical data of df\n",
        "\n",
        "fish.describe()"
      ],
      "execution_count": 7,
      "outputs": [
        {
          "output_type": "execute_result",
          "data": {
            "text/html": [
              "<div>\n",
              "<style scoped>\n",
              "    .dataframe tbody tr th:only-of-type {\n",
              "        vertical-align: middle;\n",
              "    }\n",
              "\n",
              "    .dataframe tbody tr th {\n",
              "        vertical-align: top;\n",
              "    }\n",
              "\n",
              "    .dataframe thead th {\n",
              "        text-align: right;\n",
              "    }\n",
              "</style>\n",
              "<table border=\"1\" class=\"dataframe\">\n",
              "  <thead>\n",
              "    <tr style=\"text-align: right;\">\n",
              "      <th></th>\n",
              "      <th>Weight</th>\n",
              "      <th>Length1</th>\n",
              "      <th>Length2</th>\n",
              "      <th>Length3</th>\n",
              "      <th>Height</th>\n",
              "      <th>Width</th>\n",
              "    </tr>\n",
              "  </thead>\n",
              "  <tbody>\n",
              "    <tr>\n",
              "      <th>count</th>\n",
              "      <td>159.000000</td>\n",
              "      <td>159.000000</td>\n",
              "      <td>159.000000</td>\n",
              "      <td>159.000000</td>\n",
              "      <td>159.000000</td>\n",
              "      <td>159.000000</td>\n",
              "    </tr>\n",
              "    <tr>\n",
              "      <th>mean</th>\n",
              "      <td>398.326415</td>\n",
              "      <td>26.247170</td>\n",
              "      <td>28.415723</td>\n",
              "      <td>31.227044</td>\n",
              "      <td>8.970994</td>\n",
              "      <td>4.417486</td>\n",
              "    </tr>\n",
              "    <tr>\n",
              "      <th>std</th>\n",
              "      <td>357.978317</td>\n",
              "      <td>9.996441</td>\n",
              "      <td>10.716328</td>\n",
              "      <td>11.610246</td>\n",
              "      <td>4.286208</td>\n",
              "      <td>1.685804</td>\n",
              "    </tr>\n",
              "    <tr>\n",
              "      <th>min</th>\n",
              "      <td>0.000000</td>\n",
              "      <td>7.500000</td>\n",
              "      <td>8.400000</td>\n",
              "      <td>8.800000</td>\n",
              "      <td>1.728400</td>\n",
              "      <td>1.047600</td>\n",
              "    </tr>\n",
              "    <tr>\n",
              "      <th>25%</th>\n",
              "      <td>120.000000</td>\n",
              "      <td>19.050000</td>\n",
              "      <td>21.000000</td>\n",
              "      <td>23.150000</td>\n",
              "      <td>5.944800</td>\n",
              "      <td>3.385650</td>\n",
              "    </tr>\n",
              "    <tr>\n",
              "      <th>50%</th>\n",
              "      <td>273.000000</td>\n",
              "      <td>25.200000</td>\n",
              "      <td>27.300000</td>\n",
              "      <td>29.400000</td>\n",
              "      <td>7.786000</td>\n",
              "      <td>4.248500</td>\n",
              "    </tr>\n",
              "    <tr>\n",
              "      <th>75%</th>\n",
              "      <td>650.000000</td>\n",
              "      <td>32.700000</td>\n",
              "      <td>35.500000</td>\n",
              "      <td>39.650000</td>\n",
              "      <td>12.365900</td>\n",
              "      <td>5.584500</td>\n",
              "    </tr>\n",
              "    <tr>\n",
              "      <th>max</th>\n",
              "      <td>1650.000000</td>\n",
              "      <td>59.000000</td>\n",
              "      <td>63.400000</td>\n",
              "      <td>68.000000</td>\n",
              "      <td>18.957000</td>\n",
              "      <td>8.142000</td>\n",
              "    </tr>\n",
              "  </tbody>\n",
              "</table>\n",
              "</div>"
            ],
            "text/plain": [
              "            Weight     Length1     Length2     Length3      Height       Width\n",
              "count   159.000000  159.000000  159.000000  159.000000  159.000000  159.000000\n",
              "mean    398.326415   26.247170   28.415723   31.227044    8.970994    4.417486\n",
              "std     357.978317    9.996441   10.716328   11.610246    4.286208    1.685804\n",
              "min       0.000000    7.500000    8.400000    8.800000    1.728400    1.047600\n",
              "25%     120.000000   19.050000   21.000000   23.150000    5.944800    3.385650\n",
              "50%     273.000000   25.200000   27.300000   29.400000    7.786000    4.248500\n",
              "75%     650.000000   32.700000   35.500000   39.650000   12.365900    5.584500\n",
              "max    1650.000000   59.000000   63.400000   68.000000   18.957000    8.142000"
            ]
          },
          "metadata": {
            "tags": []
          },
          "execution_count": 7
        }
      ]
    },
    {
      "cell_type": "code",
      "metadata": {
        "id": "6K9u4POlBcyA",
        "outputId": "9ca826d5-7821-46a3-c42c-9aaf4217bf06",
        "colab": {
          "base_uri": "https://localhost:8080/",
          "height": 278
        }
      },
      "source": [
        "# Species count graph\n",
        "\n",
        "sns.countplot(fish.Species)\n",
        "plt.show()"
      ],
      "execution_count": 8,
      "outputs": [
        {
          "output_type": "display_data",
          "data": {
            "image/png": "[encoded data removed]",
            "text/plain": [
              "<Figure size 432x288 with 1 Axes>"
            ]
          },
          "metadata": {
            "tags": [],
            "needs_background": "light"
          }
        }
      ]
    },
    {
      "cell_type": "code",
      "metadata": {
        "id": "JgUQrTtzBcvz",
        "outputId": "aa45e7cf-c627-40ac-8b66-ea03cf6ba3f0",
        "colab": {
          "base_uri": "https://localhost:8080/",
          "height": 268
        }
      },
      "source": [
        "# Correlation check\n",
        "\n",
        "sns.heatmap(fish.corr(), annot = True, cmap = \"Greens\")\n",
        "plt.show()"
      ],
      "execution_count": 9,
      "outputs": [
        {
          "output_type": "display_data",
          "data": {
            "image/png": "[encoded data removed]",
            "text/plain": [
              "<Figure size 432x288 with 2 Axes>"
            ]
          },
          "metadata": {
            "tags": [],
            "needs_background": "light"
          }
        }
      ]
    },
    {
      "cell_type": "code",
      "metadata": {
        "id": "T5Ss0kruBcuL"
      },
      "source": [
        "# Can conclude that every column has a good correlation with target variable"
      ],
      "execution_count": 10,
      "outputs": []
    },
    {
      "cell_type": "code",
      "metadata": {
        "id": "1-Lb2-sIBcqC",
        "outputId": "fc73a96a-946b-401f-e16a-091da0f07865",
        "colab": {
          "base_uri": "https://localhost:8080/",
          "height": 197
        }
      },
      "source": [
        "# Create dummies and merge\n",
        "\n",
        "fish_dum = pd.get_dummies(fish['Species'], drop_first = True)\n",
        "fish = pd.concat([fish, fish_dum], axis = 1)\n",
        "fish.drop( \"Species\", axis = 1, inplace = True)\n",
        "fish.head()"
      ],
      "execution_count": 11,
      "outputs": [
        {
          "output_type": "execute_result",
          "data": {
            "text/html": [
              "<div>\n",
              "<style scoped>\n",
              "    .dataframe tbody tr th:only-of-type {\n",
              "        vertical-align: middle;\n",
              "    }\n",
              "\n",
              "    .dataframe tbody tr th {\n",
              "        vertical-align: top;\n",
              "    }\n",
              "\n",
              "    .dataframe thead th {\n",
              "        text-align: right;\n",
              "    }\n",
              "</style>\n",
              "<table border=\"1\" class=\"dataframe\">\n",
              "  <thead>\n",
              "    <tr style=\"text-align: right;\">\n",
              "      <th></th>\n",
              "      <th>Weight</th>\n",
              "      <th>Length1</th>\n",
              "      <th>Length2</th>\n",
              "      <th>Length3</th>\n",
              "      <th>Height</th>\n",
              "      <th>Width</th>\n",
              "      <th>Parkki</th>\n",
              "      <th>Perch</th>\n",
              "      <th>Pike</th>\n",
              "      <th>Roach</th>\n",
              "      <th>Smelt</th>\n",
              "      <th>Whitefish</th>\n",
              "    </tr>\n",
              "  </thead>\n",
              "  <tbody>\n",
              "    <tr>\n",
              "      <th>0</th>\n",
              "      <td>242.0</td>\n",
              "      <td>23.2</td>\n",
              "      <td>25.4</td>\n",
              "      <td>30.0</td>\n",
              "      <td>11.5200</td>\n",
              "      <td>4.0200</td>\n",
              "      <td>0</td>\n",
              "      <td>0</td>\n",
              "      <td>0</td>\n",
              "      <td>0</td>\n",
              "      <td>0</td>\n",
              "      <td>0</td>\n",
              "    </tr>\n",
              "    <tr>\n",
              "      <th>1</th>\n",
              "      <td>290.0</td>\n",
              "      <td>24.0</td>\n",
              "      <td>26.3</td>\n",
              "      <td>31.2</td>\n",
              "      <td>12.4800</td>\n",
              "      <td>4.3056</td>\n",
              "      <td>0</td>\n",
              "      <td>0</td>\n",
              "      <td>0</td>\n",
              "      <td>0</td>\n",
              "      <td>0</td>\n",
              "      <td>0</td>\n",
              "    </tr>\n",
              "    <tr>\n",
              "      <th>2</th>\n",
              "      <td>340.0</td>\n",
              "      <td>23.9</td>\n",
              "      <td>26.5</td>\n",
              "      <td>31.1</td>\n",
              "      <td>12.3778</td>\n",
              "      <td>4.6961</td>\n",
              "      <td>0</td>\n",
              "      <td>0</td>\n",
              "      <td>0</td>\n",
              "      <td>0</td>\n",
              "      <td>0</td>\n",
              "      <td>0</td>\n",
              "    </tr>\n",
              "    <tr>\n",
              "      <th>3</th>\n",
              "      <td>363.0</td>\n",
              "      <td>26.3</td>\n",
              "      <td>29.0</td>\n",
              "      <td>33.5</td>\n",
              "      <td>12.7300</td>\n",
              "      <td>4.4555</td>\n",
              "      <td>0</td>\n",
              "      <td>0</td>\n",
              "      <td>0</td>\n",
              "      <td>0</td>\n",
              "      <td>0</td>\n",
              "      <td>0</td>\n",
              "    </tr>\n",
              "    <tr>\n",
              "      <th>4</th>\n",
              "      <td>430.0</td>\n",
              "      <td>26.5</td>\n",
              "      <td>29.0</td>\n",
              "      <td>34.0</td>\n",
              "      <td>12.4440</td>\n",
              "      <td>5.1340</td>\n",
              "      <td>0</td>\n",
              "      <td>0</td>\n",
              "      <td>0</td>\n",
              "      <td>0</td>\n",
              "      <td>0</td>\n",
              "      <td>0</td>\n",
              "    </tr>\n",
              "  </tbody>\n",
              "</table>\n",
              "</div>"
            ],
            "text/plain": [
              "   Weight  Length1  Length2  Length3  ...  Pike  Roach  Smelt  Whitefish\n",
              "0   242.0     23.2     25.4     30.0  ...     0      0      0          0\n",
              "1   290.0     24.0     26.3     31.2  ...     0      0      0          0\n",
              "2   340.0     23.9     26.5     31.1  ...     0      0      0          0\n",
              "3   363.0     26.3     29.0     33.5  ...     0      0      0          0\n",
              "4   430.0     26.5     29.0     34.0  ...     0      0      0          0\n",
              "\n",
              "[5 rows x 12 columns]"
            ]
          },
          "metadata": {
            "tags": []
          },
          "execution_count": 11
        }
      ]
    },
    {
      "cell_type": "code",
      "metadata": {
        "id": "02VSyRViBceL"
      },
      "source": [
        "# Import required library\n",
        "from sklearn.model_selection import train_test_split\n",
        "\n",
        "# Train and test df split\n",
        "np.random.seed(0)\n",
        "fish_train, fish_test = train_test_split( fish, train_size = 0.7, test_size = 0.3, random_state = 100)"
      ],
      "execution_count": 12,
      "outputs": []
    },
    {
      "cell_type": "code",
      "metadata": {
        "id": "KjwxYYLXFpKG",
        "outputId": "8e205a4b-d495-4195-a49d-c85990346f8c",
        "colab": {
          "base_uri": "https://localhost:8080/",
          "height": 34
        }
      },
      "source": [
        "# Row and column count of train df\n",
        "\n",
        "fish_train.shape"
      ],
      "execution_count": 13,
      "outputs": [
        {
          "output_type": "execute_result",
          "data": {
            "text/plain": [
              "(111, 12)"
            ]
          },
          "metadata": {
            "tags": []
          },
          "execution_count": 13
        }
      ]
    },
    {
      "cell_type": "code",
      "metadata": {
        "id": "KW7PSIGfFpHs",
        "outputId": "bc3aa999-a958-4435-8d85-aceb6eabd6ce",
        "colab": {
          "base_uri": "https://localhost:8080/",
          "height": 34
        }
      },
      "source": [
        "# Row and column count of test df\n",
        "\n",
        "fish_test.shape"
      ],
      "execution_count": 14,
      "outputs": [
        {
          "output_type": "execute_result",
          "data": {
            "text/plain": [
              "(48, 12)"
            ]
          },
          "metadata": {
            "tags": []
          },
          "execution_count": 14
        }
      ]
    },
    {
      "cell_type": "code",
      "metadata": {
        "id": "u9BsBcWNFCGB"
      },
      "source": [
        "# Import required library\n",
        "\n",
        "from sklearn.preprocessing import StandardScaler"
      ],
      "execution_count": 15,
      "outputs": []
    },
    {
      "cell_type": "code",
      "metadata": {
        "id": "50M_gDJwFCJT"
      },
      "source": [
        "# Standard scaler \n",
        "\n",
        "scaler = StandardScaler()"
      ],
      "execution_count": 16,
      "outputs": []
    },
    {
      "cell_type": "code",
      "metadata": {
        "id": "9Bl4cYIqFCPF"
      },
      "source": [
        "# scaler() to all the columns except the 'dummy' variables\n",
        "\n",
        "num_vars = ['Weight', 'Length1', 'Length2', 'Length3', 'Height', 'Width']\n",
        "\n",
        "fish_train[num_vars] = scaler.fit_transform(fish_train[num_vars])"
      ],
      "execution_count": 17,
      "outputs": []
    },
    {
      "cell_type": "code",
      "metadata": {
        "id": "yBQFSGgLFwUd",
        "outputId": "5ba25b60-1fd0-486e-8fac-5791f8f263ae",
        "colab": {
          "base_uri": "https://localhost:8080/",
          "height": 287
        }
      },
      "source": [
        "# Statistical data of train df\n",
        "\n",
        "fish_train.describe()"
      ],
      "execution_count": 18,
      "outputs": [
        {
          "output_type": "execute_result",
          "data": {
            "text/html": [
              "<div>\n",
              "<style scoped>\n",
              "    .dataframe tbody tr th:only-of-type {\n",
              "        vertical-align: middle;\n",
              "    }\n",
              "\n",
              "    .dataframe tbody tr th {\n",
              "        vertical-align: top;\n",
              "    }\n",
              "\n",
              "    .dataframe thead th {\n",
              "        text-align: right;\n",
              "    }\n",
              "</style>\n",
              "<table border=\"1\" class=\"dataframe\">\n",
              "  <thead>\n",
              "    <tr style=\"text-align: right;\">\n",
              "      <th></th>\n",
              "      <th>Weight</th>\n",
              "      <th>Length1</th>\n",
              "      <th>Length2</th>\n",
              "      <th>Length3</th>\n",
              "      <th>Height</th>\n",
              "      <th>Width</th>\n",
              "      <th>Parkki</th>\n",
              "      <th>Perch</th>\n",
              "      <th>Pike</th>\n",
              "      <th>Roach</th>\n",
              "      <th>Smelt</th>\n",
              "      <th>Whitefish</th>\n",
              "    </tr>\n",
              "  </thead>\n",
              "  <tbody>\n",
              "    <tr>\n",
              "      <th>count</th>\n",
              "      <td>1.110000e+02</td>\n",
              "      <td>1.110000e+02</td>\n",
              "      <td>1.110000e+02</td>\n",
              "      <td>1.110000e+02</td>\n",
              "      <td>1.110000e+02</td>\n",
              "      <td>1.110000e+02</td>\n",
              "      <td>111.000000</td>\n",
              "      <td>111.000000</td>\n",
              "      <td>111.000000</td>\n",
              "      <td>111.000000</td>\n",
              "      <td>111.000000</td>\n",
              "      <td>111.000000</td>\n",
              "    </tr>\n",
              "    <tr>\n",
              "      <th>mean</th>\n",
              "      <td>-2.675537e-17</td>\n",
              "      <td>5.243553e-16</td>\n",
              "      <td>3.035610e-16</td>\n",
              "      <td>4.905986e-16</td>\n",
              "      <td>-1.200241e-17</td>\n",
              "      <td>3.195642e-16</td>\n",
              "      <td>0.081081</td>\n",
              "      <td>0.360360</td>\n",
              "      <td>0.108108</td>\n",
              "      <td>0.117117</td>\n",
              "      <td>0.081081</td>\n",
              "      <td>0.045045</td>\n",
              "    </tr>\n",
              "    <tr>\n",
              "      <th>std</th>\n",
              "      <td>1.004535e+00</td>\n",
              "      <td>1.004535e+00</td>\n",
              "      <td>1.004535e+00</td>\n",
              "      <td>1.004535e+00</td>\n",
              "      <td>1.004535e+00</td>\n",
              "      <td>1.004535e+00</td>\n",
              "      <td>0.274198</td>\n",
              "      <td>0.482282</td>\n",
              "      <td>0.311925</td>\n",
              "      <td>0.323018</td>\n",
              "      <td>0.274198</td>\n",
              "      <td>0.208344</td>\n",
              "    </tr>\n",
              "    <tr>\n",
              "      <th>min</th>\n",
              "      <td>-1.056252e+00</td>\n",
              "      <td>-1.820693e+00</td>\n",
              "      <td>-1.815864e+00</td>\n",
              "      <td>-1.881881e+00</td>\n",
              "      <td>-1.727354e+00</td>\n",
              "      <td>-1.959270e+00</td>\n",
              "      <td>0.000000</td>\n",
              "      <td>0.000000</td>\n",
              "      <td>0.000000</td>\n",
              "      <td>0.000000</td>\n",
              "      <td>0.000000</td>\n",
              "      <td>0.000000</td>\n",
              "    </tr>\n",
              "    <tr>\n",
              "      <th>25%</th>\n",
              "      <td>-7.468687e-01</td>\n",
              "      <td>-6.775778e-01</td>\n",
              "      <td>-6.661208e-01</td>\n",
              "      <td>-6.532226e-01</td>\n",
              "      <td>-7.161715e-01</td>\n",
              "      <td>-6.021914e-01</td>\n",
              "      <td>0.000000</td>\n",
              "      <td>0.000000</td>\n",
              "      <td>0.000000</td>\n",
              "      <td>0.000000</td>\n",
              "      <td>0.000000</td>\n",
              "      <td>0.000000</td>\n",
              "    </tr>\n",
              "    <tr>\n",
              "      <th>50%</th>\n",
              "      <td>-3.347197e-01</td>\n",
              "      <td>-1.988371e-01</td>\n",
              "      <td>-1.642490e-01</td>\n",
              "      <td>-1.761149e-01</td>\n",
              "      <td>-2.562345e-01</td>\n",
              "      <td>-9.872365e-02</td>\n",
              "      <td>0.000000</td>\n",
              "      <td>0.000000</td>\n",
              "      <td>0.000000</td>\n",
              "      <td>0.000000</td>\n",
              "      <td>0.000000</td>\n",
              "      <td>0.000000</td>\n",
              "    </tr>\n",
              "    <tr>\n",
              "      <th>75%</th>\n",
              "      <td>5.953272e-01</td>\n",
              "      <td>5.681250e-01</td>\n",
              "      <td>6.113711e-01</td>\n",
              "      <td>6.767680e-01</td>\n",
              "      <td>7.989702e-01</td>\n",
              "      <td>5.482232e-01</td>\n",
              "      <td>0.000000</td>\n",
              "      <td>1.000000</td>\n",
              "      <td>0.000000</td>\n",
              "      <td>0.000000</td>\n",
              "      <td>0.000000</td>\n",
              "      <td>0.000000</td>\n",
              "    </tr>\n",
              "    <tr>\n",
              "      <th>max</th>\n",
              "      <td>3.401737e+00</td>\n",
              "      <td>3.210969e+00</td>\n",
              "      <td>3.202855e+00</td>\n",
              "      <td>3.117195e+00</td>\n",
              "      <td>2.374535e+00</td>\n",
              "      <td>2.239206e+00</td>\n",
              "      <td>1.000000</td>\n",
              "      <td>1.000000</td>\n",
              "      <td>1.000000</td>\n",
              "      <td>1.000000</td>\n",
              "      <td>1.000000</td>\n",
              "      <td>1.000000</td>\n",
              "    </tr>\n",
              "  </tbody>\n",
              "</table>\n",
              "</div>"
            ],
            "text/plain": [
              "             Weight       Length1  ...       Smelt   Whitefish\n",
              "count  1.110000e+02  1.110000e+02  ...  111.000000  111.000000\n",
              "mean  -2.675537e-17  5.243553e-16  ...    0.081081    0.045045\n",
              "std    1.004535e+00  1.004535e+00  ...    0.274198    0.208344\n",
              "min   -1.056252e+00 -1.820693e+00  ...    0.000000    0.000000\n",
              "25%   -7.468687e-01 -6.775778e-01  ...    0.000000    0.000000\n",
              "50%   -3.347197e-01 -1.988371e-01  ...    0.000000    0.000000\n",
              "75%    5.953272e-01  5.681250e-01  ...    0.000000    0.000000\n",
              "max    3.401737e+00  3.210969e+00  ...    1.000000    1.000000\n",
              "\n",
              "[8 rows x 12 columns]"
            ]
          },
          "metadata": {
            "tags": []
          },
          "execution_count": 18
        }
      ]
    },
    {
      "cell_type": "code",
      "metadata": {
        "id": "xBfJZ76cFCXi",
        "outputId": "c6eb3dff-9f1c-4c6e-83bf-81f94cac7ce7",
        "colab": {
          "base_uri": "https://localhost:8080/",
          "height": 598
        }
      },
      "source": [
        "# Correlation recheck\n",
        "\n",
        "plt.figure( figsize = [20,10])\n",
        "sns.heatmap( fish_train.corr(), annot = True, cmap = \"YlGnBu\")\n",
        "plt.show()"
      ],
      "execution_count": 19,
      "outputs": [
        {
          "output_type": "display_data",
          "data": {
            "image/png": "[encoded data removed]",
            "text/plain": [
              "<Figure size 1440x720 with 2 Axes>"
            ]
          },
          "metadata": {
            "tags": [],
            "needs_background": "light"
          }
        }
      ]
    },
    {
      "cell_type": "code",
      "metadata": {
        "id": "FIg12uXGQKDt"
      },
      "source": [
        "# We can see a detailed view of correlations with low correlation too previously it was high with all"
      ],
      "execution_count": 20,
      "outputs": []
    },
    {
      "cell_type": "code",
      "metadata": {
        "id": "FknRnRzoFCcr"
      },
      "source": [
        "# Prepare dataframe for model building\n",
        "\n",
        "y_train = fish_train.pop('Weight')\n",
        "X_train = fish_train"
      ],
      "execution_count": 21,
      "outputs": []
    },
    {
      "cell_type": "code",
      "metadata": {
        "id": "nioF3DH8FCiJ",
        "outputId": "a7e4e35e-066d-4c76-f62d-16e548688184",
        "colab": {
          "base_uri": "https://localhost:8080/",
          "height": 565
        }
      },
      "source": [
        "# Import required library and create model one\n",
        "\n",
        "import statsmodels.api as sm\n",
        "\n",
        "X_train_lm = sm.add_constant(X_train)\n",
        "lr_1 = sm.OLS(y_train, X_train_lm).fit()\n",
        "lr_1.summary()"
      ],
      "execution_count": 22,
      "outputs": [
        {
          "output_type": "execute_result",
          "data": {
            "text/html": [
              "<table class=\"simpletable\">\n",
              "<caption>OLS Regression Results</caption>\n",
              "<tr>\n",
              "  <th>Dep. Variable:</th>         <td>Weight</td>      <th>  R-squared:         </th> <td>   0.937</td>\n",
              "</tr>\n",
              "<tr>\n",
              "  <th>Model:</th>                   <td>OLS</td>       <th>  Adj. R-squared:    </th> <td>   0.930</td>\n",
              "</tr>\n",
              "<tr>\n",
              "  <th>Method:</th>             <td>Least Squares</td>  <th>  F-statistic:       </th> <td>   134.0</td>\n",
              "</tr>\n",
              "<tr>\n",
              "  <th>Date:</th>             <td>Wed, 30 Sep 2020</td> <th>  Prob (F-statistic):</th> <td>2.75e-54</td>\n",
              "</tr>\n",
              "<tr>\n",
              "  <th>Time:</th>                 <td>18:37:20</td>     <th>  Log-Likelihood:    </th> <td> -4.0254</td>\n",
              "</tr>\n",
              "<tr>\n",
              "  <th>No. Observations:</th>      <td>   111</td>      <th>  AIC:               </th> <td>   32.05</td>\n",
              "</tr>\n",
              "<tr>\n",
              "  <th>Df Residuals:</th>          <td>    99</td>      <th>  BIC:               </th> <td>   64.57</td>\n",
              "</tr>\n",
              "<tr>\n",
              "  <th>Df Model:</th>              <td>    11</td>      <th>                     </th>     <td> </td>   \n",
              "</tr>\n",
              "<tr>\n",
              "  <th>Covariance Type:</th>      <td>nonrobust</td>    <th>                     </th>     <td> </td>   \n",
              "</tr>\n",
              "</table>\n",
              "<table class=\"simpletable\">\n",
              "<tr>\n",
              "      <td></td>         <th>coef</th>     <th>std err</th>      <th>t</th>      <th>P>|t|</th>  <th>[0.025</th>    <th>0.975]</th>  \n",
              "</tr>\n",
              "<tr>\n",
              "  <th>const</th>     <td>   -0.0745</td> <td>    0.283</td> <td>   -0.264</td> <td> 0.793</td> <td>   -0.635</td> <td>    0.486</td>\n",
              "</tr>\n",
              "<tr>\n",
              "  <th>Length1</th>   <td>   -1.3094</td> <td>    1.233</td> <td>   -1.062</td> <td> 0.291</td> <td>   -3.755</td> <td>    1.136</td>\n",
              "</tr>\n",
              "<tr>\n",
              "  <th>Length2</th>   <td>    2.0792</td> <td>    1.600</td> <td>    1.300</td> <td> 0.197</td> <td>   -1.095</td> <td>    5.253</td>\n",
              "</tr>\n",
              "<tr>\n",
              "  <th>Length3</th>   <td>    0.5416</td> <td>    1.107</td> <td>    0.489</td> <td> 0.626</td> <td>   -1.656</td> <td>    2.739</td>\n",
              "</tr>\n",
              "<tr>\n",
              "  <th>Height</th>    <td>   -0.0340</td> <td>    0.189</td> <td>   -0.180</td> <td> 0.858</td> <td>   -0.409</td> <td>    0.341</td>\n",
              "</tr>\n",
              "<tr>\n",
              "  <th>Width</th>     <td>   -0.0339</td> <td>    0.127</td> <td>   -0.266</td> <td> 0.791</td> <td>   -0.286</td> <td>    0.219</td>\n",
              "</tr>\n",
              "<tr>\n",
              "  <th>Parkki</th>    <td>    0.3025</td> <td>    0.239</td> <td>    1.264</td> <td> 0.209</td> <td>   -0.172</td> <td>    0.777</td>\n",
              "</tr>\n",
              "<tr>\n",
              "  <th>Perch</th>     <td>    0.1544</td> <td>    0.396</td> <td>    0.389</td> <td> 0.698</td> <td>   -0.632</td> <td>    0.941</td>\n",
              "</tr>\n",
              "<tr>\n",
              "  <th>Pike</th>      <td>   -0.9550</td> <td>    0.469</td> <td>   -2.037</td> <td> 0.044</td> <td>   -1.885</td> <td>   -0.025</td>\n",
              "</tr>\n",
              "<tr>\n",
              "  <th>Roach</th>     <td>    0.1536</td> <td>    0.306</td> <td>    0.502</td> <td> 0.617</td> <td>   -0.454</td> <td>    0.761</td>\n",
              "</tr>\n",
              "<tr>\n",
              "  <th>Smelt</th>     <td>    0.9505</td> <td>    0.405</td> <td>    2.348</td> <td> 0.021</td> <td>    0.147</td> <td>    1.754</td>\n",
              "</tr>\n",
              "<tr>\n",
              "  <th>Whitefish</th> <td>    0.0569</td> <td>    0.313</td> <td>    0.182</td> <td> 0.856</td> <td>   -0.565</td> <td>    0.678</td>\n",
              "</tr>\n",
              "</table>\n",
              "<table class=\"simpletable\">\n",
              "<tr>\n",
              "  <th>Omnibus:</th>       <td>31.147</td> <th>  Durbin-Watson:     </th> <td>   2.198</td>\n",
              "</tr>\n",
              "<tr>\n",
              "  <th>Prob(Omnibus):</th> <td> 0.000</td> <th>  Jarque-Bera (JB):  </th> <td>  73.986</td>\n",
              "</tr>\n",
              "<tr>\n",
              "  <th>Skew:</th>          <td> 1.054</td> <th>  Prob(JB):          </th> <td>8.59e-17</td>\n",
              "</tr>\n",
              "<tr>\n",
              "  <th>Kurtosis:</th>      <td> 6.400</td> <th>  Cond. No.          </th> <td>    166.</td>\n",
              "</tr>\n",
              "</table><br/><br/>Warnings:<br/>[1] Standard Errors assume that the covariance matrix of the errors is correctly specified."
            ],
            "text/plain": [
              "<class 'statsmodels.iolib.summary.Summary'>\n",
              "\"\"\"\n",
              "                            OLS Regression Results                            \n",
              "==============================================================================\n",
              "Dep. Variable:                 Weight   R-squared:                       0.937\n",
              "Model:                            OLS   Adj. R-squared:                  0.930\n",
              "Method:                 Least Squares   F-statistic:                     134.0\n",
              "Date:                Wed, 30 Sep 2020   Prob (F-statistic):           2.75e-54\n",
              "Time:                        18:37:20   Log-Likelihood:                -4.0254\n",
              "No. Observations:                 111   AIC:                             32.05\n",
              "Df Residuals:                      99   BIC:                             64.57\n",
              "Df Model:                          11                                         \n",
              "Covariance Type:            nonrobust                                         \n",
              "==============================================================================\n",
              "                 coef    std err          t      P>|t|      [0.025      0.975]\n",
              "------------------------------------------------------------------------------\n",
              "const         -0.0745      0.283     -0.264      0.793      -0.635       0.486\n",
              "Length1       -1.3094      1.233     -1.062      0.291      -3.755       1.136\n",
              "Length2        2.0792      1.600      1.300      0.197      -1.095       5.253\n",
              "Length3        0.5416      1.107      0.489      0.626      -1.656       2.739\n",
              "Height        -0.0340      0.189     -0.180      0.858      -0.409       0.341\n",
              "Width         -0.0339      0.127     -0.266      0.791      -0.286       0.219\n",
              "Parkki         0.3025      0.239      1.264      0.209      -0.172       0.777\n",
              "Perch          0.1544      0.396      0.389      0.698      -0.632       0.941\n",
              "Pike          -0.9550      0.469     -2.037      0.044      -1.885      -0.025\n",
              "Roach          0.1536      0.306      0.502      0.617      -0.454       0.761\n",
              "Smelt          0.9505      0.405      2.348      0.021       0.147       1.754\n",
              "Whitefish      0.0569      0.313      0.182      0.856      -0.565       0.678\n",
              "==============================================================================\n",
              "Omnibus:                       31.147   Durbin-Watson:                   2.198\n",
              "Prob(Omnibus):                  0.000   Jarque-Bera (JB):               73.986\n",
              "Skew:                           1.054   Prob(JB):                     8.59e-17\n",
              "Kurtosis:                       6.400   Cond. No.                         166.\n",
              "==============================================================================\n",
              "\n",
              "Warnings:\n",
              "[1] Standard Errors assume that the covariance matrix of the errors is correctly specified.\n",
              "\"\"\""
            ]
          },
          "metadata": {
            "tags": []
          },
          "execution_count": 22
        }
      ]
    },
    {
      "cell_type": "code",
      "metadata": {
        "id": "6v9zRV3lFCnD"
      },
      "source": [
        "# Drop high p-value variable\n",
        "\n",
        "X_train.drop( \"Height\", axis = 1, inplace = True)"
      ],
      "execution_count": 23,
      "outputs": []
    },
    {
      "cell_type": "code",
      "metadata": {
        "id": "vJTC-8KuFCli",
        "outputId": "9bf37d18-aa9b-402a-a823-c267b31ba8d3",
        "colab": {
          "base_uri": "https://localhost:8080/",
          "height": 547
        }
      },
      "source": [
        "# create model two after drop\n",
        "\n",
        "X_train_lm = sm.add_constant(X_train)\n",
        "lr_2 = sm.OLS(y_train, X_train_lm).fit()\n",
        "lr_2.summary()"
      ],
      "execution_count": 24,
      "outputs": [
        {
          "output_type": "execute_result",
          "data": {
            "text/html": [
              "<table class=\"simpletable\">\n",
              "<caption>OLS Regression Results</caption>\n",
              "<tr>\n",
              "  <th>Dep. Variable:</th>         <td>Weight</td>      <th>  R-squared:         </th> <td>   0.937</td>\n",
              "</tr>\n",
              "<tr>\n",
              "  <th>Model:</th>                   <td>OLS</td>       <th>  Adj. R-squared:    </th> <td>   0.931</td>\n",
              "</tr>\n",
              "<tr>\n",
              "  <th>Method:</th>             <td>Least Squares</td>  <th>  F-statistic:       </th> <td>   148.8</td>\n",
              "</tr>\n",
              "<tr>\n",
              "  <th>Date:</th>             <td>Wed, 30 Sep 2020</td> <th>  Prob (F-statistic):</th> <td>2.23e-55</td>\n",
              "</tr>\n",
              "<tr>\n",
              "  <th>Time:</th>                 <td>18:37:20</td>     <th>  Log-Likelihood:    </th> <td> -4.0435</td>\n",
              "</tr>\n",
              "<tr>\n",
              "  <th>No. Observations:</th>      <td>   111</td>      <th>  AIC:               </th> <td>   30.09</td>\n",
              "</tr>\n",
              "<tr>\n",
              "  <th>Df Residuals:</th>          <td>   100</td>      <th>  BIC:               </th> <td>   59.89</td>\n",
              "</tr>\n",
              "<tr>\n",
              "  <th>Df Model:</th>              <td>    10</td>      <th>                     </th>     <td> </td>   \n",
              "</tr>\n",
              "<tr>\n",
              "  <th>Covariance Type:</th>      <td>nonrobust</td>    <th>                     </th>     <td> </td>   \n",
              "</tr>\n",
              "</table>\n",
              "<table class=\"simpletable\">\n",
              "<tr>\n",
              "      <td></td>         <th>coef</th>     <th>std err</th>      <th>t</th>      <th>P>|t|</th>  <th>[0.025</th>    <th>0.975]</th>  \n",
              "</tr>\n",
              "<tr>\n",
              "  <th>const</th>     <td>   -0.1082</td> <td>    0.211</td> <td>   -0.513</td> <td> 0.609</td> <td>   -0.527</td> <td>    0.311</td>\n",
              "</tr>\n",
              "<tr>\n",
              "  <th>Length1</th>   <td>   -1.3026</td> <td>    1.226</td> <td>   -1.062</td> <td> 0.291</td> <td>   -3.735</td> <td>    1.130</td>\n",
              "</tr>\n",
              "<tr>\n",
              "  <th>Length2</th>   <td>    2.0817</td> <td>    1.592</td> <td>    1.308</td> <td> 0.194</td> <td>   -1.077</td> <td>    5.240</td>\n",
              "</tr>\n",
              "<tr>\n",
              "  <th>Length3</th>   <td>    0.5203</td> <td>    1.096</td> <td>    0.475</td> <td> 0.636</td> <td>   -1.653</td> <td>    2.694</td>\n",
              "</tr>\n",
              "<tr>\n",
              "  <th>Width</th>     <td>   -0.0476</td> <td>    0.102</td> <td>   -0.469</td> <td> 0.640</td> <td>   -0.249</td> <td>    0.154</td>\n",
              "</tr>\n",
              "<tr>\n",
              "  <th>Parkki</th>    <td>    0.3165</td> <td>    0.225</td> <td>    1.405</td> <td> 0.163</td> <td>   -0.130</td> <td>    0.763</td>\n",
              "</tr>\n",
              "<tr>\n",
              "  <th>Perch</th>     <td>    0.1970</td> <td>    0.316</td> <td>    0.623</td> <td> 0.535</td> <td>   -0.431</td> <td>    0.825</td>\n",
              "</tr>\n",
              "<tr>\n",
              "  <th>Pike</th>      <td>   -0.8879</td> <td>    0.283</td> <td>   -3.142</td> <td> 0.002</td> <td>   -1.449</td> <td>   -0.327</td>\n",
              "</tr>\n",
              "<tr>\n",
              "  <th>Roach</th>     <td>    0.1932</td> <td>    0.212</td> <td>    0.913</td> <td> 0.364</td> <td>   -0.227</td> <td>    0.613</td>\n",
              "</tr>\n",
              "<tr>\n",
              "  <th>Smelt</th>     <td>    0.9953</td> <td>    0.318</td> <td>    3.133</td> <td> 0.002</td> <td>    0.365</td> <td>    1.625</td>\n",
              "</tr>\n",
              "<tr>\n",
              "  <th>Whitefish</th> <td>    0.0929</td> <td>    0.240</td> <td>    0.387</td> <td> 0.699</td> <td>   -0.383</td> <td>    0.569</td>\n",
              "</tr>\n",
              "</table>\n",
              "<table class=\"simpletable\">\n",
              "<tr>\n",
              "  <th>Omnibus:</th>       <td>31.337</td> <th>  Durbin-Watson:     </th> <td>   2.191</td>\n",
              "</tr>\n",
              "<tr>\n",
              "  <th>Prob(Omnibus):</th> <td> 0.000</td> <th>  Jarque-Bera (JB):  </th> <td>  74.232</td>\n",
              "</tr>\n",
              "<tr>\n",
              "  <th>Skew:</th>          <td> 1.062</td> <th>  Prob(JB):          </th> <td>7.60e-17</td>\n",
              "</tr>\n",
              "<tr>\n",
              "  <th>Kurtosis:</th>      <td> 6.397</td> <th>  Cond. No.          </th> <td>    155.</td>\n",
              "</tr>\n",
              "</table><br/><br/>Warnings:<br/>[1] Standard Errors assume that the covariance matrix of the errors is correctly specified."
            ],
            "text/plain": [
              "<class 'statsmodels.iolib.summary.Summary'>\n",
              "\"\"\"\n",
              "                            OLS Regression Results                            \n",
              "==============================================================================\n",
              "Dep. Variable:                 Weight   R-squared:                       0.937\n",
              "Model:                            OLS   Adj. R-squared:                  0.931\n",
              "Method:                 Least Squares   F-statistic:                     148.8\n",
              "Date:                Wed, 30 Sep 2020   Prob (F-statistic):           2.23e-55\n",
              "Time:                        18:37:20   Log-Likelihood:                -4.0435\n",
              "No. Observations:                 111   AIC:                             30.09\n",
              "Df Residuals:                     100   BIC:                             59.89\n",
              "Df Model:                          10                                         \n",
              "Covariance Type:            nonrobust                                         \n",
              "==============================================================================\n",
              "                 coef    std err          t      P>|t|      [0.025      0.975]\n",
              "------------------------------------------------------------------------------\n",
              "const         -0.1082      0.211     -0.513      0.609      -0.527       0.311\n",
              "Length1       -1.3026      1.226     -1.062      0.291      -3.735       1.130\n",
              "Length2        2.0817      1.592      1.308      0.194      -1.077       5.240\n",
              "Length3        0.5203      1.096      0.475      0.636      -1.653       2.694\n",
              "Width         -0.0476      0.102     -0.469      0.640      -0.249       0.154\n",
              "Parkki         0.3165      0.225      1.405      0.163      -0.130       0.763\n",
              "Perch          0.1970      0.316      0.623      0.535      -0.431       0.825\n",
              "Pike          -0.8879      0.283     -3.142      0.002      -1.449      -0.327\n",
              "Roach          0.1932      0.212      0.913      0.364      -0.227       0.613\n",
              "Smelt          0.9953      0.318      3.133      0.002       0.365       1.625\n",
              "Whitefish      0.0929      0.240      0.387      0.699      -0.383       0.569\n",
              "==============================================================================\n",
              "Omnibus:                       31.337   Durbin-Watson:                   2.191\n",
              "Prob(Omnibus):                  0.000   Jarque-Bera (JB):               74.232\n",
              "Skew:                           1.062   Prob(JB):                     7.60e-17\n",
              "Kurtosis:                       6.397   Cond. No.                         155.\n",
              "==============================================================================\n",
              "\n",
              "Warnings:\n",
              "[1] Standard Errors assume that the covariance matrix of the errors is correctly specified.\n",
              "\"\"\""
            ]
          },
          "metadata": {
            "tags": []
          },
          "execution_count": 24
        }
      ]
    },
    {
      "cell_type": "code",
      "metadata": {
        "id": "Nx6s9g44FCgg"
      },
      "source": [
        "# Drop high p-value variable\n",
        "\n",
        "X_train.drop( \"Whitefish\", axis = 1, inplace = True)"
      ],
      "execution_count": 25,
      "outputs": []
    },
    {
      "cell_type": "code",
      "metadata": {
        "id": "szBbHcd-FCa6",
        "outputId": "ab1992d0-422f-4e92-8b30-bc61fdbd1601",
        "colab": {
          "base_uri": "https://localhost:8080/",
          "height": 530
        }
      },
      "source": [
        "# create model three after drop\n",
        "\n",
        "X_train_lm = sm.add_constant(X_train)\n",
        "lr_3 = sm.OLS(y_train, X_train_lm).fit()\n",
        "lr_3.summary()"
      ],
      "execution_count": 26,
      "outputs": [
        {
          "output_type": "execute_result",
          "data": {
            "text/html": [
              "<table class=\"simpletable\">\n",
              "<caption>OLS Regression Results</caption>\n",
              "<tr>\n",
              "  <th>Dep. Variable:</th>         <td>Weight</td>      <th>  R-squared:         </th> <td>   0.937</td>\n",
              "</tr>\n",
              "<tr>\n",
              "  <th>Model:</th>                   <td>OLS</td>       <th>  Adj. R-squared:    </th> <td>   0.931</td>\n",
              "</tr>\n",
              "<tr>\n",
              "  <th>Method:</th>             <td>Least Squares</td>  <th>  F-statistic:       </th> <td>   166.7</td>\n",
              "</tr>\n",
              "<tr>\n",
              "  <th>Date:</th>             <td>Wed, 30 Sep 2020</td> <th>  Prob (F-statistic):</th> <td>1.80e-56</td>\n",
              "</tr>\n",
              "<tr>\n",
              "  <th>Time:</th>                 <td>18:37:20</td>     <th>  Log-Likelihood:    </th> <td> -4.1267</td>\n",
              "</tr>\n",
              "<tr>\n",
              "  <th>No. Observations:</th>      <td>   111</td>      <th>  AIC:               </th> <td>   28.25</td>\n",
              "</tr>\n",
              "<tr>\n",
              "  <th>Df Residuals:</th>          <td>   101</td>      <th>  BIC:               </th> <td>   55.35</td>\n",
              "</tr>\n",
              "<tr>\n",
              "  <th>Df Model:</th>              <td>     9</td>      <th>                     </th>     <td> </td>   \n",
              "</tr>\n",
              "<tr>\n",
              "  <th>Covariance Type:</th>      <td>nonrobust</td>    <th>                     </th>     <td> </td>   \n",
              "</tr>\n",
              "</table>\n",
              "<table class=\"simpletable\">\n",
              "<tr>\n",
              "     <td></td>        <th>coef</th>     <th>std err</th>      <th>t</th>      <th>P>|t|</th>  <th>[0.025</th>    <th>0.975]</th>  \n",
              "</tr>\n",
              "<tr>\n",
              "  <th>const</th>   <td>   -0.0384</td> <td>    0.109</td> <td>   -0.351</td> <td> 0.726</td> <td>   -0.255</td> <td>    0.179</td>\n",
              "</tr>\n",
              "<tr>\n",
              "  <th>Length1</th> <td>   -1.2567</td> <td>    1.215</td> <td>   -1.034</td> <td> 0.304</td> <td>   -3.667</td> <td>    1.154</td>\n",
              "</tr>\n",
              "<tr>\n",
              "  <th>Length2</th> <td>    2.3667</td> <td>    1.406</td> <td>    1.684</td> <td> 0.095</td> <td>   -0.422</td> <td>    5.155</td>\n",
              "</tr>\n",
              "<tr>\n",
              "  <th>Length3</th> <td>    0.1677</td> <td>    0.607</td> <td>    0.276</td> <td> 0.783</td> <td>   -1.036</td> <td>    1.372</td>\n",
              "</tr>\n",
              "<tr>\n",
              "  <th>Width</th>   <td>   -0.0363</td> <td>    0.097</td> <td>   -0.375</td> <td> 0.708</td> <td>   -0.229</td> <td>    0.156</td>\n",
              "</tr>\n",
              "<tr>\n",
              "  <th>Parkki</th>  <td>    0.2490</td> <td>    0.142</td> <td>    1.751</td> <td> 0.083</td> <td>   -0.033</td> <td>    0.531</td>\n",
              "</tr>\n",
              "<tr>\n",
              "  <th>Perch</th>   <td>    0.0920</td> <td>    0.162</td> <td>    0.567</td> <td> 0.572</td> <td>   -0.230</td> <td>    0.414</td>\n",
              "</tr>\n",
              "<tr>\n",
              "  <th>Pike</th>    <td>   -0.9547</td> <td>    0.223</td> <td>   -4.284</td> <td> 0.000</td> <td>   -1.397</td> <td>   -0.513</td>\n",
              "</tr>\n",
              "<tr>\n",
              "  <th>Roach</th>   <td>    0.1295</td> <td>    0.133</td> <td>    0.976</td> <td> 0.331</td> <td>   -0.134</td> <td>    0.393</td>\n",
              "</tr>\n",
              "<tr>\n",
              "  <th>Smelt</th>   <td>    0.9015</td> <td>    0.205</td> <td>    4.407</td> <td> 0.000</td> <td>    0.496</td> <td>    1.307</td>\n",
              "</tr>\n",
              "</table>\n",
              "<table class=\"simpletable\">\n",
              "<tr>\n",
              "  <th>Omnibus:</th>       <td>30.553</td> <th>  Durbin-Watson:     </th> <td>   2.208</td>\n",
              "</tr>\n",
              "<tr>\n",
              "  <th>Prob(Omnibus):</th> <td> 0.000</td> <th>  Jarque-Bera (JB):  </th> <td>  71.794</td>\n",
              "</tr>\n",
              "<tr>\n",
              "  <th>Skew:</th>          <td> 1.037</td> <th>  Prob(JB):          </th> <td>2.57e-16</td>\n",
              "</tr>\n",
              "<tr>\n",
              "  <th>Kurtosis:</th>      <td> 6.350</td> <th>  Cond. No.          </th> <td>    144.</td>\n",
              "</tr>\n",
              "</table><br/><br/>Warnings:<br/>[1] Standard Errors assume that the covariance matrix of the errors is correctly specified."
            ],
            "text/plain": [
              "<class 'statsmodels.iolib.summary.Summary'>\n",
              "\"\"\"\n",
              "                            OLS Regression Results                            \n",
              "==============================================================================\n",
              "Dep. Variable:                 Weight   R-squared:                       0.937\n",
              "Model:                            OLS   Adj. R-squared:                  0.931\n",
              "Method:                 Least Squares   F-statistic:                     166.7\n",
              "Date:                Wed, 30 Sep 2020   Prob (F-statistic):           1.80e-56\n",
              "Time:                        18:37:20   Log-Likelihood:                -4.1267\n",
              "No. Observations:                 111   AIC:                             28.25\n",
              "Df Residuals:                     101   BIC:                             55.35\n",
              "Df Model:                           9                                         \n",
              "Covariance Type:            nonrobust                                         \n",
              "==============================================================================\n",
              "                 coef    std err          t      P>|t|      [0.025      0.975]\n",
              "------------------------------------------------------------------------------\n",
              "const         -0.0384      0.109     -0.351      0.726      -0.255       0.179\n",
              "Length1       -1.2567      1.215     -1.034      0.304      -3.667       1.154\n",
              "Length2        2.3667      1.406      1.684      0.095      -0.422       5.155\n",
              "Length3        0.1677      0.607      0.276      0.783      -1.036       1.372\n",
              "Width         -0.0363      0.097     -0.375      0.708      -0.229       0.156\n",
              "Parkki         0.2490      0.142      1.751      0.083      -0.033       0.531\n",
              "Perch          0.0920      0.162      0.567      0.572      -0.230       0.414\n",
              "Pike          -0.9547      0.223     -4.284      0.000      -1.397      -0.513\n",
              "Roach          0.1295      0.133      0.976      0.331      -0.134       0.393\n",
              "Smelt          0.9015      0.205      4.407      0.000       0.496       1.307\n",
              "==============================================================================\n",
              "Omnibus:                       30.553   Durbin-Watson:                   2.208\n",
              "Prob(Omnibus):                  0.000   Jarque-Bera (JB):               71.794\n",
              "Skew:                           1.037   Prob(JB):                     2.57e-16\n",
              "Kurtosis:                       6.350   Cond. No.                         144.\n",
              "==============================================================================\n",
              "\n",
              "Warnings:\n",
              "[1] Standard Errors assume that the covariance matrix of the errors is correctly specified.\n",
              "\"\"\""
            ]
          },
          "metadata": {
            "tags": []
          },
          "execution_count": 26
        }
      ]
    },
    {
      "cell_type": "code",
      "metadata": {
        "id": "Tr952UaQFCVG"
      },
      "source": [
        "# Drop high p-value variable\n",
        "\n",
        "X_train.drop( \"Length3\", axis = 1, inplace = True)"
      ],
      "execution_count": 27,
      "outputs": []
    },
    {
      "cell_type": "code",
      "metadata": {
        "id": "md4MWVKmFCTn",
        "outputId": "bd1d9607-9d39-4043-ddba-feaf751e4269",
        "colab": {
          "base_uri": "https://localhost:8080/",
          "height": 512
        }
      },
      "source": [
        "# create model four after drop\n",
        "\n",
        "X_train_lm = sm.add_constant(X_train)\n",
        "lr_4 = sm.OLS(y_train, X_train_lm).fit()\n",
        "lr_4.summary()"
      ],
      "execution_count": 28,
      "outputs": [
        {
          "output_type": "execute_result",
          "data": {
            "text/html": [
              "<table class=\"simpletable\">\n",
              "<caption>OLS Regression Results</caption>\n",
              "<tr>\n",
              "  <th>Dep. Variable:</th>         <td>Weight</td>      <th>  R-squared:         </th> <td>   0.937</td>\n",
              "</tr>\n",
              "<tr>\n",
              "  <th>Model:</th>                   <td>OLS</td>       <th>  Adj. R-squared:    </th> <td>   0.932</td>\n",
              "</tr>\n",
              "<tr>\n",
              "  <th>Method:</th>             <td>Least Squares</td>  <th>  F-statistic:       </th> <td>   189.3</td>\n",
              "</tr>\n",
              "<tr>\n",
              "  <th>Date:</th>             <td>Wed, 30 Sep 2020</td> <th>  Prob (F-statistic):</th> <td>1.31e-57</td>\n",
              "</tr>\n",
              "<tr>\n",
              "  <th>Time:</th>                 <td>18:37:20</td>     <th>  Log-Likelihood:    </th> <td> -4.1686</td>\n",
              "</tr>\n",
              "<tr>\n",
              "  <th>No. Observations:</th>      <td>   111</td>      <th>  AIC:               </th> <td>   26.34</td>\n",
              "</tr>\n",
              "<tr>\n",
              "  <th>Df Residuals:</th>          <td>   102</td>      <th>  BIC:               </th> <td>   50.72</td>\n",
              "</tr>\n",
              "<tr>\n",
              "  <th>Df Model:</th>              <td>     8</td>      <th>                     </th>     <td> </td>   \n",
              "</tr>\n",
              "<tr>\n",
              "  <th>Covariance Type:</th>      <td>nonrobust</td>    <th>                     </th>     <td> </td>   \n",
              "</tr>\n",
              "</table>\n",
              "<table class=\"simpletable\">\n",
              "<tr>\n",
              "     <td></td>        <th>coef</th>     <th>std err</th>      <th>t</th>      <th>P>|t|</th>  <th>[0.025</th>    <th>0.975]</th>  \n",
              "</tr>\n",
              "<tr>\n",
              "  <th>const</th>   <td>   -0.0147</td> <td>    0.068</td> <td>   -0.217</td> <td> 0.828</td> <td>   -0.149</td> <td>    0.120</td>\n",
              "</tr>\n",
              "<tr>\n",
              "  <th>Length1</th> <td>   -1.2905</td> <td>    1.204</td> <td>   -1.072</td> <td> 0.286</td> <td>   -3.678</td> <td>    1.097</td>\n",
              "</tr>\n",
              "<tr>\n",
              "  <th>Length2</th> <td>    2.5640</td> <td>    1.205</td> <td>    2.127</td> <td> 0.036</td> <td>    0.173</td> <td>    4.955</td>\n",
              "</tr>\n",
              "<tr>\n",
              "  <th>Width</th>   <td>   -0.0350</td> <td>    0.096</td> <td>   -0.364</td> <td> 0.717</td> <td>   -0.226</td> <td>    0.156</td>\n",
              "</tr>\n",
              "<tr>\n",
              "  <th>Parkki</th>  <td>    0.2279</td> <td>    0.119</td> <td>    1.908</td> <td> 0.059</td> <td>   -0.009</td> <td>    0.465</td>\n",
              "</tr>\n",
              "<tr>\n",
              "  <th>Perch</th>   <td>    0.0528</td> <td>    0.078</td> <td>    0.677</td> <td> 0.500</td> <td>   -0.102</td> <td>    0.207</td>\n",
              "</tr>\n",
              "<tr>\n",
              "  <th>Pike</th>    <td>   -0.9837</td> <td>    0.196</td> <td>   -5.022</td> <td> 0.000</td> <td>   -1.372</td> <td>   -0.595</td>\n",
              "</tr>\n",
              "<tr>\n",
              "  <th>Roach</th>   <td>    0.1111</td> <td>    0.114</td> <td>    0.973</td> <td> 0.333</td> <td>   -0.115</td> <td>    0.338</td>\n",
              "</tr>\n",
              "<tr>\n",
              "  <th>Smelt</th>   <td>    0.8703</td> <td>    0.170</td> <td>    5.124</td> <td> 0.000</td> <td>    0.533</td> <td>    1.207</td>\n",
              "</tr>\n",
              "</table>\n",
              "<table class=\"simpletable\">\n",
              "<tr>\n",
              "  <th>Omnibus:</th>       <td>30.033</td> <th>  Durbin-Watson:     </th> <td>   2.198</td>\n",
              "</tr>\n",
              "<tr>\n",
              "  <th>Prob(Omnibus):</th> <td> 0.000</td> <th>  Jarque-Bera (JB):  </th> <td>  70.244</td>\n",
              "</tr>\n",
              "<tr>\n",
              "  <th>Skew:</th>          <td> 1.020</td> <th>  Prob(JB):          </th> <td>5.58e-16</td>\n",
              "</tr>\n",
              "<tr>\n",
              "  <th>Kurtosis:</th>      <td> 6.321</td> <th>  Cond. No.          </th> <td>    116.</td>\n",
              "</tr>\n",
              "</table><br/><br/>Warnings:<br/>[1] Standard Errors assume that the covariance matrix of the errors is correctly specified."
            ],
            "text/plain": [
              "<class 'statsmodels.iolib.summary.Summary'>\n",
              "\"\"\"\n",
              "                            OLS Regression Results                            \n",
              "==============================================================================\n",
              "Dep. Variable:                 Weight   R-squared:                       0.937\n",
              "Model:                            OLS   Adj. R-squared:                  0.932\n",
              "Method:                 Least Squares   F-statistic:                     189.3\n",
              "Date:                Wed, 30 Sep 2020   Prob (F-statistic):           1.31e-57\n",
              "Time:                        18:37:20   Log-Likelihood:                -4.1686\n",
              "No. Observations:                 111   AIC:                             26.34\n",
              "Df Residuals:                     102   BIC:                             50.72\n",
              "Df Model:                           8                                         \n",
              "Covariance Type:            nonrobust                                         \n",
              "==============================================================================\n",
              "                 coef    std err          t      P>|t|      [0.025      0.975]\n",
              "------------------------------------------------------------------------------\n",
              "const         -0.0147      0.068     -0.217      0.828      -0.149       0.120\n",
              "Length1       -1.2905      1.204     -1.072      0.286      -3.678       1.097\n",
              "Length2        2.5640      1.205      2.127      0.036       0.173       4.955\n",
              "Width         -0.0350      0.096     -0.364      0.717      -0.226       0.156\n",
              "Parkki         0.2279      0.119      1.908      0.059      -0.009       0.465\n",
              "Perch          0.0528      0.078      0.677      0.500      -0.102       0.207\n",
              "Pike          -0.9837      0.196     -5.022      0.000      -1.372      -0.595\n",
              "Roach          0.1111      0.114      0.973      0.333      -0.115       0.338\n",
              "Smelt          0.8703      0.170      5.124      0.000       0.533       1.207\n",
              "==============================================================================\n",
              "Omnibus:                       30.033   Durbin-Watson:                   2.198\n",
              "Prob(Omnibus):                  0.000   Jarque-Bera (JB):               70.244\n",
              "Skew:                           1.020   Prob(JB):                     5.58e-16\n",
              "Kurtosis:                       6.321   Cond. No.                         116.\n",
              "==============================================================================\n",
              "\n",
              "Warnings:\n",
              "[1] Standard Errors assume that the covariance matrix of the errors is correctly specified.\n",
              "\"\"\""
            ]
          },
          "metadata": {
            "tags": []
          },
          "execution_count": 28
        }
      ]
    },
    {
      "cell_type": "code",
      "metadata": {
        "id": "jVhXeUUkFCNW"
      },
      "source": [
        "# Drop high p-value variable\n",
        "\n",
        "X_train.drop( \"Width\", axis = 1, inplace = True)"
      ],
      "execution_count": 29,
      "outputs": []
    },
    {
      "cell_type": "code",
      "metadata": {
        "id": "g11MVOJ6JLUb",
        "outputId": "421cd562-c708-4145-9106-83593dfc5d31",
        "colab": {
          "base_uri": "https://localhost:8080/",
          "height": 494
        }
      },
      "source": [
        "# create model five after drop\n",
        "\n",
        "X_train_lm = sm.add_constant(X_train)\n",
        "lr_5 = sm.OLS(y_train, X_train_lm).fit()\n",
        "lr_5.summary()"
      ],
      "execution_count": 30,
      "outputs": [
        {
          "output_type": "execute_result",
          "data": {
            "text/html": [
              "<table class=\"simpletable\">\n",
              "<caption>OLS Regression Results</caption>\n",
              "<tr>\n",
              "  <th>Dep. Variable:</th>         <td>Weight</td>      <th>  R-squared:         </th> <td>   0.937</td>\n",
              "</tr>\n",
              "<tr>\n",
              "  <th>Model:</th>                   <td>OLS</td>       <th>  Adj. R-squared:    </th> <td>   0.933</td>\n",
              "</tr>\n",
              "<tr>\n",
              "  <th>Method:</th>             <td>Least Squares</td>  <th>  F-statistic:       </th> <td>   218.1</td>\n",
              "</tr>\n",
              "<tr>\n",
              "  <th>Date:</th>             <td>Wed, 30 Sep 2020</td> <th>  Prob (F-statistic):</th> <td>9.14e-59</td>\n",
              "</tr>\n",
              "<tr>\n",
              "  <th>Time:</th>                 <td>18:37:20</td>     <th>  Log-Likelihood:    </th> <td> -4.2406</td>\n",
              "</tr>\n",
              "<tr>\n",
              "  <th>No. Observations:</th>      <td>   111</td>      <th>  AIC:               </th> <td>   24.48</td>\n",
              "</tr>\n",
              "<tr>\n",
              "  <th>Df Residuals:</th>          <td>   103</td>      <th>  BIC:               </th> <td>   46.16</td>\n",
              "</tr>\n",
              "<tr>\n",
              "  <th>Df Model:</th>              <td>     7</td>      <th>                     </th>     <td> </td>   \n",
              "</tr>\n",
              "<tr>\n",
              "  <th>Covariance Type:</th>      <td>nonrobust</td>    <th>                     </th>     <td> </td>   \n",
              "</tr>\n",
              "</table>\n",
              "<table class=\"simpletable\">\n",
              "<tr>\n",
              "     <td></td>        <th>coef</th>     <th>std err</th>      <th>t</th>      <th>P>|t|</th>  <th>[0.025</th>    <th>0.975]</th>  \n",
              "</tr>\n",
              "<tr>\n",
              "  <th>const</th>   <td>   -0.0216</td> <td>    0.065</td> <td>   -0.333</td> <td> 0.740</td> <td>   -0.150</td> <td>    0.107</td>\n",
              "</tr>\n",
              "<tr>\n",
              "  <th>Length1</th> <td>   -1.3465</td> <td>    1.189</td> <td>   -1.133</td> <td> 0.260</td> <td>   -3.704</td> <td>    1.011</td>\n",
              "</tr>\n",
              "<tr>\n",
              "  <th>Length2</th> <td>    2.5811</td> <td>    1.199</td> <td>    2.152</td> <td> 0.034</td> <td>    0.202</td> <td>    4.960</td>\n",
              "</tr>\n",
              "<tr>\n",
              "  <th>Parkki</th>  <td>    0.2317</td> <td>    0.118</td> <td>    1.956</td> <td> 0.053</td> <td>   -0.003</td> <td>    0.467</td>\n",
              "</tr>\n",
              "<tr>\n",
              "  <th>Perch</th>   <td>    0.0501</td> <td>    0.077</td> <td>    0.648</td> <td> 0.518</td> <td>   -0.103</td> <td>    0.203</td>\n",
              "</tr>\n",
              "<tr>\n",
              "  <th>Pike</th>    <td>   -0.9273</td> <td>    0.119</td> <td>   -7.782</td> <td> 0.000</td> <td>   -1.164</td> <td>   -0.691</td>\n",
              "</tr>\n",
              "<tr>\n",
              "  <th>Roach</th>   <td>    0.1122</td> <td>    0.114</td> <td>    0.987</td> <td> 0.326</td> <td>   -0.113</td> <td>    0.338</td>\n",
              "</tr>\n",
              "<tr>\n",
              "  <th>Smelt</th>   <td>    0.8859</td> <td>    0.164</td> <td>    5.414</td> <td> 0.000</td> <td>    0.561</td> <td>    1.210</td>\n",
              "</tr>\n",
              "</table>\n",
              "<table class=\"simpletable\">\n",
              "<tr>\n",
              "  <th>Omnibus:</th>       <td>31.314</td> <th>  Durbin-Watson:     </th> <td>   2.181</td>\n",
              "</tr>\n",
              "<tr>\n",
              "  <th>Prob(Omnibus):</th> <td> 0.000</td> <th>  Jarque-Bera (JB):  </th> <td>  74.146</td>\n",
              "</tr>\n",
              "<tr>\n",
              "  <th>Skew:</th>          <td> 1.061</td> <th>  Prob(JB):          </th> <td>7.93e-17</td>\n",
              "</tr>\n",
              "<tr>\n",
              "  <th>Kurtosis:</th>      <td> 6.395</td> <th>  Cond. No.          </th> <td>    98.2</td>\n",
              "</tr>\n",
              "</table><br/><br/>Warnings:<br/>[1] Standard Errors assume that the covariance matrix of the errors is correctly specified."
            ],
            "text/plain": [
              "<class 'statsmodels.iolib.summary.Summary'>\n",
              "\"\"\"\n",
              "                            OLS Regression Results                            \n",
              "==============================================================================\n",
              "Dep. Variable:                 Weight   R-squared:                       0.937\n",
              "Model:                            OLS   Adj. R-squared:                  0.933\n",
              "Method:                 Least Squares   F-statistic:                     218.1\n",
              "Date:                Wed, 30 Sep 2020   Prob (F-statistic):           9.14e-59\n",
              "Time:                        18:37:20   Log-Likelihood:                -4.2406\n",
              "No. Observations:                 111   AIC:                             24.48\n",
              "Df Residuals:                     103   BIC:                             46.16\n",
              "Df Model:                           7                                         \n",
              "Covariance Type:            nonrobust                                         \n",
              "==============================================================================\n",
              "                 coef    std err          t      P>|t|      [0.025      0.975]\n",
              "------------------------------------------------------------------------------\n",
              "const         -0.0216      0.065     -0.333      0.740      -0.150       0.107\n",
              "Length1       -1.3465      1.189     -1.133      0.260      -3.704       1.011\n",
              "Length2        2.5811      1.199      2.152      0.034       0.202       4.960\n",
              "Parkki         0.2317      0.118      1.956      0.053      -0.003       0.467\n",
              "Perch          0.0501      0.077      0.648      0.518      -0.103       0.203\n",
              "Pike          -0.9273      0.119     -7.782      0.000      -1.164      -0.691\n",
              "Roach          0.1122      0.114      0.987      0.326      -0.113       0.338\n",
              "Smelt          0.8859      0.164      5.414      0.000       0.561       1.210\n",
              "==============================================================================\n",
              "Omnibus:                       31.314   Durbin-Watson:                   2.181\n",
              "Prob(Omnibus):                  0.000   Jarque-Bera (JB):               74.146\n",
              "Skew:                           1.061   Prob(JB):                     7.93e-17\n",
              "Kurtosis:                       6.395   Cond. No.                         98.2\n",
              "==============================================================================\n",
              "\n",
              "Warnings:\n",
              "[1] Standard Errors assume that the covariance matrix of the errors is correctly specified.\n",
              "\"\"\""
            ]
          },
          "metadata": {
            "tags": []
          },
          "execution_count": 30
        }
      ]
    },
    {
      "cell_type": "code",
      "metadata": {
        "id": "p36Z2EQcJLZf"
      },
      "source": [
        "# Drop high p-value variable\n",
        "\n",
        "X_train.drop( \"Perch\", axis = 1, inplace = True)"
      ],
      "execution_count": 31,
      "outputs": []
    },
    {
      "cell_type": "code",
      "metadata": {
        "id": "p_0MqhNKJLhi",
        "outputId": "4e904c2e-076d-4470-bf16-9006de555c0d",
        "colab": {
          "base_uri": "https://localhost:8080/",
          "height": 476
        }
      },
      "source": [
        "# create model six after drop\n",
        "\n",
        "X_train_lm = sm.add_constant(X_train)\n",
        "lr_6 = sm.OLS(y_train, X_train_lm).fit()\n",
        "lr_6.summary()"
      ],
      "execution_count": 32,
      "outputs": [
        {
          "output_type": "execute_result",
          "data": {
            "text/html": [
              "<table class=\"simpletable\">\n",
              "<caption>OLS Regression Results</caption>\n",
              "<tr>\n",
              "  <th>Dep. Variable:</th>         <td>Weight</td>      <th>  R-squared:         </th> <td>   0.937</td>\n",
              "</tr>\n",
              "<tr>\n",
              "  <th>Model:</th>                   <td>OLS</td>       <th>  Adj. R-squared:    </th> <td>   0.933</td>\n",
              "</tr>\n",
              "<tr>\n",
              "  <th>Method:</th>             <td>Least Squares</td>  <th>  F-statistic:       </th> <td>   255.8</td>\n",
              "</tr>\n",
              "<tr>\n",
              "  <th>Date:</th>             <td>Wed, 30 Sep 2020</td> <th>  Prob (F-statistic):</th> <td>6.74e-60</td>\n",
              "</tr>\n",
              "<tr>\n",
              "  <th>Time:</th>                 <td>18:37:20</td>     <th>  Log-Likelihood:    </th> <td> -4.4664</td>\n",
              "</tr>\n",
              "<tr>\n",
              "  <th>No. Observations:</th>      <td>   111</td>      <th>  AIC:               </th> <td>   22.93</td>\n",
              "</tr>\n",
              "<tr>\n",
              "  <th>Df Residuals:</th>          <td>   104</td>      <th>  BIC:               </th> <td>   41.90</td>\n",
              "</tr>\n",
              "<tr>\n",
              "  <th>Df Model:</th>              <td>     6</td>      <th>                     </th>     <td> </td>   \n",
              "</tr>\n",
              "<tr>\n",
              "  <th>Covariance Type:</th>      <td>nonrobust</td>    <th>                     </th>     <td> </td>   \n",
              "</tr>\n",
              "</table>\n",
              "<table class=\"simpletable\">\n",
              "<tr>\n",
              "     <td></td>        <th>coef</th>     <th>std err</th>      <th>t</th>      <th>P>|t|</th>  <th>[0.025</th>    <th>0.975]</th>  \n",
              "</tr>\n",
              "<tr>\n",
              "  <th>const</th>   <td>    0.0139</td> <td>    0.035</td> <td>    0.400</td> <td> 0.690</td> <td>   -0.055</td> <td>    0.083</td>\n",
              "</tr>\n",
              "<tr>\n",
              "  <th>Length1</th> <td>   -0.9646</td> <td>    1.029</td> <td>   -0.937</td> <td> 0.351</td> <td>   -3.006</td> <td>    1.077</td>\n",
              "</tr>\n",
              "<tr>\n",
              "  <th>Length2</th> <td>    2.1894</td> <td>    1.033</td> <td>    2.119</td> <td> 0.036</td> <td>    0.141</td> <td>    4.238</td>\n",
              "</tr>\n",
              "<tr>\n",
              "  <th>Parkki</th>  <td>    0.1893</td> <td>    0.098</td> <td>    1.923</td> <td> 0.057</td> <td>   -0.006</td> <td>    0.385</td>\n",
              "</tr>\n",
              "<tr>\n",
              "  <th>Pike</th>    <td>   -0.9563</td> <td>    0.110</td> <td>   -8.683</td> <td> 0.000</td> <td>   -1.175</td> <td>   -0.738</td>\n",
              "</tr>\n",
              "<tr>\n",
              "  <th>Roach</th>   <td>    0.0659</td> <td>    0.088</td> <td>    0.748</td> <td> 0.456</td> <td>   -0.109</td> <td>    0.241</td>\n",
              "</tr>\n",
              "<tr>\n",
              "  <th>Smelt</th>   <td>    0.8195</td> <td>    0.127</td> <td>    6.439</td> <td> 0.000</td> <td>    0.567</td> <td>    1.072</td>\n",
              "</tr>\n",
              "</table>\n",
              "<table class=\"simpletable\">\n",
              "<tr>\n",
              "  <th>Omnibus:</th>       <td>31.744</td> <th>  Durbin-Watson:     </th> <td>   2.224</td>\n",
              "</tr>\n",
              "<tr>\n",
              "  <th>Prob(Omnibus):</th> <td> 0.000</td> <th>  Jarque-Bera (JB):  </th> <td>  76.099</td>\n",
              "</tr>\n",
              "<tr>\n",
              "  <th>Skew:</th>          <td> 1.071</td> <th>  Prob(JB):          </th> <td>2.99e-17</td>\n",
              "</tr>\n",
              "<tr>\n",
              "  <th>Kurtosis:</th>      <td> 6.444</td> <th>  Cond. No.          </th> <td>    84.8</td>\n",
              "</tr>\n",
              "</table><br/><br/>Warnings:<br/>[1] Standard Errors assume that the covariance matrix of the errors is correctly specified."
            ],
            "text/plain": [
              "<class 'statsmodels.iolib.summary.Summary'>\n",
              "\"\"\"\n",
              "                            OLS Regression Results                            \n",
              "==============================================================================\n",
              "Dep. Variable:                 Weight   R-squared:                       0.937\n",
              "Model:                            OLS   Adj. R-squared:                  0.933\n",
              "Method:                 Least Squares   F-statistic:                     255.8\n",
              "Date:                Wed, 30 Sep 2020   Prob (F-statistic):           6.74e-60\n",
              "Time:                        18:37:20   Log-Likelihood:                -4.4664\n",
              "No. Observations:                 111   AIC:                             22.93\n",
              "Df Residuals:                     104   BIC:                             41.90\n",
              "Df Model:                           6                                         \n",
              "Covariance Type:            nonrobust                                         \n",
              "==============================================================================\n",
              "                 coef    std err          t      P>|t|      [0.025      0.975]\n",
              "------------------------------------------------------------------------------\n",
              "const          0.0139      0.035      0.400      0.690      -0.055       0.083\n",
              "Length1       -0.9646      1.029     -0.937      0.351      -3.006       1.077\n",
              "Length2        2.1894      1.033      2.119      0.036       0.141       4.238\n",
              "Parkki         0.1893      0.098      1.923      0.057      -0.006       0.385\n",
              "Pike          -0.9563      0.110     -8.683      0.000      -1.175      -0.738\n",
              "Roach          0.0659      0.088      0.748      0.456      -0.109       0.241\n",
              "Smelt          0.8195      0.127      6.439      0.000       0.567       1.072\n",
              "==============================================================================\n",
              "Omnibus:                       31.744   Durbin-Watson:                   2.224\n",
              "Prob(Omnibus):                  0.000   Jarque-Bera (JB):               76.099\n",
              "Skew:                           1.071   Prob(JB):                     2.99e-17\n",
              "Kurtosis:                       6.444   Cond. No.                         84.8\n",
              "==============================================================================\n",
              "\n",
              "Warnings:\n",
              "[1] Standard Errors assume that the covariance matrix of the errors is correctly specified.\n",
              "\"\"\""
            ]
          },
          "metadata": {
            "tags": []
          },
          "execution_count": 32
        }
      ]
    },
    {
      "cell_type": "code",
      "metadata": {
        "id": "ReA0i8TpJLfm"
      },
      "source": [
        "# Drop high p-value variable\n",
        "\n",
        "X_train.drop( \"Roach\", axis = 1, inplace = True)"
      ],
      "execution_count": 33,
      "outputs": []
    },
    {
      "cell_type": "code",
      "metadata": {
        "id": "L77eC-5MJLd1",
        "outputId": "776ea499-a699-45fa-dc80-9629d8b5f750",
        "colab": {
          "base_uri": "https://localhost:8080/",
          "height": 458
        }
      },
      "source": [
        "# create model seven after drop\n",
        "\n",
        "X_train_lm = sm.add_constant(X_train)\n",
        "lr_7 = sm.OLS(y_train, X_train_lm).fit()\n",
        "lr_7.summary()"
      ],
      "execution_count": 34,
      "outputs": [
        {
          "output_type": "execute_result",
          "data": {
            "text/html": [
              "<table class=\"simpletable\">\n",
              "<caption>OLS Regression Results</caption>\n",
              "<tr>\n",
              "  <th>Dep. Variable:</th>         <td>Weight</td>      <th>  R-squared:         </th> <td>   0.936</td>\n",
              "</tr>\n",
              "<tr>\n",
              "  <th>Model:</th>                   <td>OLS</td>       <th>  Adj. R-squared:    </th> <td>   0.933</td>\n",
              "</tr>\n",
              "<tr>\n",
              "  <th>Method:</th>             <td>Least Squares</td>  <th>  F-statistic:       </th> <td>   308.2</td>\n",
              "</tr>\n",
              "<tr>\n",
              "  <th>Date:</th>             <td>Wed, 30 Sep 2020</td> <th>  Prob (F-statistic):</th> <td>4.81e-61</td>\n",
              "</tr>\n",
              "<tr>\n",
              "  <th>Time:</th>                 <td>18:37:20</td>     <th>  Log-Likelihood:    </th> <td> -4.7639</td>\n",
              "</tr>\n",
              "<tr>\n",
              "  <th>No. Observations:</th>      <td>   111</td>      <th>  AIC:               </th> <td>   21.53</td>\n",
              "</tr>\n",
              "<tr>\n",
              "  <th>Df Residuals:</th>          <td>   105</td>      <th>  BIC:               </th> <td>   37.79</td>\n",
              "</tr>\n",
              "<tr>\n",
              "  <th>Df Model:</th>              <td>     5</td>      <th>                     </th>     <td> </td>   \n",
              "</tr>\n",
              "<tr>\n",
              "  <th>Covariance Type:</th>      <td>nonrobust</td>    <th>                     </th>     <td> </td>   \n",
              "</tr>\n",
              "</table>\n",
              "<table class=\"simpletable\">\n",
              "<tr>\n",
              "     <td></td>        <th>coef</th>     <th>std err</th>      <th>t</th>      <th>P>|t|</th>  <th>[0.025</th>    <th>0.975]</th>  \n",
              "</tr>\n",
              "<tr>\n",
              "  <th>const</th>   <td>    0.0266</td> <td>    0.030</td> <td>    0.882</td> <td> 0.380</td> <td>   -0.033</td> <td>    0.086</td>\n",
              "</tr>\n",
              "<tr>\n",
              "  <th>Length1</th> <td>   -0.7083</td> <td>    0.969</td> <td>   -0.731</td> <td> 0.466</td> <td>   -2.629</td> <td>    1.212</td>\n",
              "</tr>\n",
              "<tr>\n",
              "  <th>Length2</th> <td>    1.9236</td> <td>    0.968</td> <td>    1.987</td> <td> 0.049</td> <td>    0.004</td> <td>    3.843</td>\n",
              "</tr>\n",
              "<tr>\n",
              "  <th>Parkki</th>  <td>    0.1699</td> <td>    0.095</td> <td>    1.793</td> <td> 0.076</td> <td>   -0.018</td> <td>    0.358</td>\n",
              "</tr>\n",
              "<tr>\n",
              "  <th>Pike</th>    <td>   -0.9596</td> <td>    0.110</td> <td>   -8.739</td> <td> 0.000</td> <td>   -1.177</td> <td>   -0.742</td>\n",
              "</tr>\n",
              "<tr>\n",
              "  <th>Smelt</th>   <td>    0.7817</td> <td>    0.117</td> <td>    6.708</td> <td> 0.000</td> <td>    0.551</td> <td>    1.013</td>\n",
              "</tr>\n",
              "</table>\n",
              "<table class=\"simpletable\">\n",
              "<tr>\n",
              "  <th>Omnibus:</th>       <td>28.606</td> <th>  Durbin-Watson:     </th> <td>   2.212</td>\n",
              "</tr>\n",
              "<tr>\n",
              "  <th>Prob(Omnibus):</th> <td> 0.000</td> <th>  Jarque-Bera (JB):  </th> <td>  63.358</td>\n",
              "</tr>\n",
              "<tr>\n",
              "  <th>Skew:</th>          <td> 0.992</td> <th>  Prob(JB):          </th> <td>1.75e-14</td>\n",
              "</tr>\n",
              "<tr>\n",
              "  <th>Kurtosis:</th>      <td> 6.124</td> <th>  Cond. No.          </th> <td>    79.7</td>\n",
              "</tr>\n",
              "</table><br/><br/>Warnings:<br/>[1] Standard Errors assume that the covariance matrix of the errors is correctly specified."
            ],
            "text/plain": [
              "<class 'statsmodels.iolib.summary.Summary'>\n",
              "\"\"\"\n",
              "                            OLS Regression Results                            \n",
              "==============================================================================\n",
              "Dep. Variable:                 Weight   R-squared:                       0.936\n",
              "Model:                            OLS   Adj. R-squared:                  0.933\n",
              "Method:                 Least Squares   F-statistic:                     308.2\n",
              "Date:                Wed, 30 Sep 2020   Prob (F-statistic):           4.81e-61\n",
              "Time:                        18:37:20   Log-Likelihood:                -4.7639\n",
              "No. Observations:                 111   AIC:                             21.53\n",
              "Df Residuals:                     105   BIC:                             37.79\n",
              "Df Model:                           5                                         \n",
              "Covariance Type:            nonrobust                                         \n",
              "==============================================================================\n",
              "                 coef    std err          t      P>|t|      [0.025      0.975]\n",
              "------------------------------------------------------------------------------\n",
              "const          0.0266      0.030      0.882      0.380      -0.033       0.086\n",
              "Length1       -0.7083      0.969     -0.731      0.466      -2.629       1.212\n",
              "Length2        1.9236      0.968      1.987      0.049       0.004       3.843\n",
              "Parkki         0.1699      0.095      1.793      0.076      -0.018       0.358\n",
              "Pike          -0.9596      0.110     -8.739      0.000      -1.177      -0.742\n",
              "Smelt          0.7817      0.117      6.708      0.000       0.551       1.013\n",
              "==============================================================================\n",
              "Omnibus:                       28.606   Durbin-Watson:                   2.212\n",
              "Prob(Omnibus):                  0.000   Jarque-Bera (JB):               63.358\n",
              "Skew:                           0.992   Prob(JB):                     1.75e-14\n",
              "Kurtosis:                       6.124   Cond. No.                         79.7\n",
              "==============================================================================\n",
              "\n",
              "Warnings:\n",
              "[1] Standard Errors assume that the covariance matrix of the errors is correctly specified.\n",
              "\"\"\""
            ]
          },
          "metadata": {
            "tags": []
          },
          "execution_count": 34
        }
      ]
    },
    {
      "cell_type": "code",
      "metadata": {
        "id": "8cTaJ3uRJLXo"
      },
      "source": [
        "# Drop high p-value variable\n",
        "\n",
        "X_train.drop( \"Length1\", axis = 1, inplace = True)"
      ],
      "execution_count": 35,
      "outputs": []
    },
    {
      "cell_type": "code",
      "metadata": {
        "id": "9c98BQh3JLRw",
        "outputId": "294a8a00-ca12-44d8-cdd8-4d07103c26b4",
        "colab": {
          "base_uri": "https://localhost:8080/",
          "height": 441
        }
      },
      "source": [
        "# create model eight after drop\n",
        "\n",
        "X_train_lm = sm.add_constant(X_train)\n",
        "lr_8 = sm.OLS(y_train, X_train_lm).fit()\n",
        "lr_8.summary()"
      ],
      "execution_count": 36,
      "outputs": [
        {
          "output_type": "execute_result",
          "data": {
            "text/html": [
              "<table class=\"simpletable\">\n",
              "<caption>OLS Regression Results</caption>\n",
              "<tr>\n",
              "  <th>Dep. Variable:</th>         <td>Weight</td>      <th>  R-squared:         </th> <td>   0.936</td>\n",
              "</tr>\n",
              "<tr>\n",
              "  <th>Model:</th>                   <td>OLS</td>       <th>  Adj. R-squared:    </th> <td>   0.933</td>\n",
              "</tr>\n",
              "<tr>\n",
              "  <th>Method:</th>             <td>Least Squares</td>  <th>  F-statistic:       </th> <td>   386.8</td>\n",
              "</tr>\n",
              "<tr>\n",
              "  <th>Date:</th>             <td>Wed, 30 Sep 2020</td> <th>  Prob (F-statistic):</th> <td>2.99e-62</td>\n",
              "</tr>\n",
              "<tr>\n",
              "  <th>Time:</th>                 <td>18:37:20</td>     <th>  Log-Likelihood:    </th> <td> -5.0459</td>\n",
              "</tr>\n",
              "<tr>\n",
              "  <th>No. Observations:</th>      <td>   111</td>      <th>  AIC:               </th> <td>   20.09</td>\n",
              "</tr>\n",
              "<tr>\n",
              "  <th>Df Residuals:</th>          <td>   106</td>      <th>  BIC:               </th> <td>   33.64</td>\n",
              "</tr>\n",
              "<tr>\n",
              "  <th>Df Model:</th>              <td>     4</td>      <th>                     </th>     <td> </td>   \n",
              "</tr>\n",
              "<tr>\n",
              "  <th>Covariance Type:</th>      <td>nonrobust</td>    <th>                     </th>     <td> </td>   \n",
              "</tr>\n",
              "</table>\n",
              "<table class=\"simpletable\">\n",
              "<tr>\n",
              "     <td></td>        <th>coef</th>     <th>std err</th>      <th>t</th>      <th>P>|t|</th>  <th>[0.025</th>    <th>0.975]</th>  \n",
              "</tr>\n",
              "<tr>\n",
              "  <th>const</th>   <td>    0.0330</td> <td>    0.029</td> <td>    1.144</td> <td> 0.255</td> <td>   -0.024</td> <td>    0.090</td>\n",
              "</tr>\n",
              "<tr>\n",
              "  <th>Length2</th> <td>    1.2163</td> <td>    0.037</td> <td>   33.257</td> <td> 0.000</td> <td>    1.144</td> <td>    1.289</td>\n",
              "</tr>\n",
              "<tr>\n",
              "  <th>Parkki</th>  <td>    0.1634</td> <td>    0.094</td> <td>    1.736</td> <td> 0.086</td> <td>   -0.023</td> <td>    0.350</td>\n",
              "</tr>\n",
              "<tr>\n",
              "  <th>Pike</th>    <td>   -0.9873</td> <td>    0.103</td> <td>   -9.603</td> <td> 0.000</td> <td>   -1.191</td> <td>   -0.784</td>\n",
              "</tr>\n",
              "<tr>\n",
              "  <th>Smelt</th>   <td>    0.7466</td> <td>    0.106</td> <td>    7.047</td> <td> 0.000</td> <td>    0.537</td> <td>    0.957</td>\n",
              "</tr>\n",
              "</table>\n",
              "<table class=\"simpletable\">\n",
              "<tr>\n",
              "  <th>Omnibus:</th>       <td>27.182</td> <th>  Durbin-Watson:     </th> <td>   2.219</td>\n",
              "</tr>\n",
              "<tr>\n",
              "  <th>Prob(Omnibus):</th> <td> 0.000</td> <th>  Jarque-Bera (JB):  </th> <td>  59.797</td>\n",
              "</tr>\n",
              "<tr>\n",
              "  <th>Skew:</th>          <td> 0.943</td> <th>  Prob(JB):          </th> <td>1.04e-13</td>\n",
              "</tr>\n",
              "<tr>\n",
              "  <th>Kurtosis:</th>      <td> 6.062</td> <th>  Cond. No.          </th> <td>    5.14</td>\n",
              "</tr>\n",
              "</table><br/><br/>Warnings:<br/>[1] Standard Errors assume that the covariance matrix of the errors is correctly specified."
            ],
            "text/plain": [
              "<class 'statsmodels.iolib.summary.Summary'>\n",
              "\"\"\"\n",
              "                            OLS Regression Results                            \n",
              "==============================================================================\n",
              "Dep. Variable:                 Weight   R-squared:                       0.936\n",
              "Model:                            OLS   Adj. R-squared:                  0.933\n",
              "Method:                 Least Squares   F-statistic:                     386.8\n",
              "Date:                Wed, 30 Sep 2020   Prob (F-statistic):           2.99e-62\n",
              "Time:                        18:37:20   Log-Likelihood:                -5.0459\n",
              "No. Observations:                 111   AIC:                             20.09\n",
              "Df Residuals:                     106   BIC:                             33.64\n",
              "Df Model:                           4                                         \n",
              "Covariance Type:            nonrobust                                         \n",
              "==============================================================================\n",
              "                 coef    std err          t      P>|t|      [0.025      0.975]\n",
              "------------------------------------------------------------------------------\n",
              "const          0.0330      0.029      1.144      0.255      -0.024       0.090\n",
              "Length2        1.2163      0.037     33.257      0.000       1.144       1.289\n",
              "Parkki         0.1634      0.094      1.736      0.086      -0.023       0.350\n",
              "Pike          -0.9873      0.103     -9.603      0.000      -1.191      -0.784\n",
              "Smelt          0.7466      0.106      7.047      0.000       0.537       0.957\n",
              "==============================================================================\n",
              "Omnibus:                       27.182   Durbin-Watson:                   2.219\n",
              "Prob(Omnibus):                  0.000   Jarque-Bera (JB):               59.797\n",
              "Skew:                           0.943   Prob(JB):                     1.04e-13\n",
              "Kurtosis:                       6.062   Cond. No.                         5.14\n",
              "==============================================================================\n",
              "\n",
              "Warnings:\n",
              "[1] Standard Errors assume that the covariance matrix of the errors is correctly specified.\n",
              "\"\"\""
            ]
          },
          "metadata": {
            "tags": []
          },
          "execution_count": 36
        }
      ]
    },
    {
      "cell_type": "code",
      "metadata": {
        "id": "WIN_HF5_J1u-"
      },
      "source": [
        "# Drop high p-value variable\n",
        "\n",
        "X_train.drop( \"Parkki\", axis = 1, inplace = True)"
      ],
      "execution_count": 37,
      "outputs": []
    },
    {
      "cell_type": "code",
      "metadata": {
        "id": "dHgb7s3BJ1yc",
        "outputId": "968e4c24-1ed8-4390-bb70-9638a0086959",
        "colab": {
          "base_uri": "https://localhost:8080/",
          "height": 423
        }
      },
      "source": [
        "# create model nine after drop\n",
        "\n",
        "X_train_lm = sm.add_constant(X_train)\n",
        "lr_9 = sm.OLS(y_train, X_train_lm).fit()\n",
        "lr_9.summary()"
      ],
      "execution_count": 38,
      "outputs": [
        {
          "output_type": "execute_result",
          "data": {
            "text/html": [
              "<table class=\"simpletable\">\n",
              "<caption>OLS Regression Results</caption>\n",
              "<tr>\n",
              "  <th>Dep. Variable:</th>         <td>Weight</td>      <th>  R-squared:         </th> <td>   0.934</td>\n",
              "</tr>\n",
              "<tr>\n",
              "  <th>Model:</th>                   <td>OLS</td>       <th>  Adj. R-squared:    </th> <td>   0.932</td>\n",
              "</tr>\n",
              "<tr>\n",
              "  <th>Method:</th>             <td>Least Squares</td>  <th>  F-statistic:       </th> <td>   505.2</td>\n",
              "</tr>\n",
              "<tr>\n",
              "  <th>Date:</th>             <td>Wed, 30 Sep 2020</td> <th>  Prob (F-statistic):</th> <td>5.39e-63</td>\n",
              "</tr>\n",
              "<tr>\n",
              "  <th>Time:</th>                 <td>18:37:20</td>     <th>  Log-Likelihood:    </th> <td> -6.6010</td>\n",
              "</tr>\n",
              "<tr>\n",
              "  <th>No. Observations:</th>      <td>   111</td>      <th>  AIC:               </th> <td>   21.20</td>\n",
              "</tr>\n",
              "<tr>\n",
              "  <th>Df Residuals:</th>          <td>   107</td>      <th>  BIC:               </th> <td>   32.04</td>\n",
              "</tr>\n",
              "<tr>\n",
              "  <th>Df Model:</th>              <td>     3</td>      <th>                     </th>     <td> </td>   \n",
              "</tr>\n",
              "<tr>\n",
              "  <th>Covariance Type:</th>      <td>nonrobust</td>    <th>                     </th>     <td> </td>   \n",
              "</tr>\n",
              "</table>\n",
              "<table class=\"simpletable\">\n",
              "<tr>\n",
              "     <td></td>        <th>coef</th>     <th>std err</th>      <th>t</th>      <th>P>|t|</th>  <th>[0.025</th>    <th>0.975]</th>  \n",
              "</tr>\n",
              "<tr>\n",
              "  <th>const</th>   <td>    0.0480</td> <td>    0.028</td> <td>    1.730</td> <td> 0.087</td> <td>   -0.007</td> <td>    0.103</td>\n",
              "</tr>\n",
              "<tr>\n",
              "  <th>Length2</th> <td>    1.2001</td> <td>    0.036</td> <td>   33.621</td> <td> 0.000</td> <td>    1.129</td> <td>    1.271</td>\n",
              "</tr>\n",
              "<tr>\n",
              "  <th>Pike</th>    <td>   -0.9741</td> <td>    0.103</td> <td>   -9.413</td> <td> 0.000</td> <td>   -1.179</td> <td>   -0.769</td>\n",
              "</tr>\n",
              "<tr>\n",
              "  <th>Smelt</th>   <td>    0.7073</td> <td>    0.104</td> <td>    6.770</td> <td> 0.000</td> <td>    0.500</td> <td>    0.914</td>\n",
              "</tr>\n",
              "</table>\n",
              "<table class=\"simpletable\">\n",
              "<tr>\n",
              "  <th>Omnibus:</th>       <td>21.982</td> <th>  Durbin-Watson:     </th> <td>   2.230</td>\n",
              "</tr>\n",
              "<tr>\n",
              "  <th>Prob(Omnibus):</th> <td> 0.000</td> <th>  Jarque-Bera (JB):  </th> <td>  40.375</td>\n",
              "</tr>\n",
              "<tr>\n",
              "  <th>Skew:</th>          <td> 0.829</td> <th>  Prob(JB):          </th> <td>1.71e-09</td>\n",
              "</tr>\n",
              "<tr>\n",
              "  <th>Kurtosis:</th>      <td> 5.445</td> <th>  Cond. No.          </th> <td>    4.90</td>\n",
              "</tr>\n",
              "</table><br/><br/>Warnings:<br/>[1] Standard Errors assume that the covariance matrix of the errors is correctly specified."
            ],
            "text/plain": [
              "<class 'statsmodels.iolib.summary.Summary'>\n",
              "\"\"\"\n",
              "                            OLS Regression Results                            \n",
              "==============================================================================\n",
              "Dep. Variable:                 Weight   R-squared:                       0.934\n",
              "Model:                            OLS   Adj. R-squared:                  0.932\n",
              "Method:                 Least Squares   F-statistic:                     505.2\n",
              "Date:                Wed, 30 Sep 2020   Prob (F-statistic):           5.39e-63\n",
              "Time:                        18:37:20   Log-Likelihood:                -6.6010\n",
              "No. Observations:                 111   AIC:                             21.20\n",
              "Df Residuals:                     107   BIC:                             32.04\n",
              "Df Model:                           3                                         \n",
              "Covariance Type:            nonrobust                                         \n",
              "==============================================================================\n",
              "                 coef    std err          t      P>|t|      [0.025      0.975]\n",
              "------------------------------------------------------------------------------\n",
              "const          0.0480      0.028      1.730      0.087      -0.007       0.103\n",
              "Length2        1.2001      0.036     33.621      0.000       1.129       1.271\n",
              "Pike          -0.9741      0.103     -9.413      0.000      -1.179      -0.769\n",
              "Smelt          0.7073      0.104      6.770      0.000       0.500       0.914\n",
              "==============================================================================\n",
              "Omnibus:                       21.982   Durbin-Watson:                   2.230\n",
              "Prob(Omnibus):                  0.000   Jarque-Bera (JB):               40.375\n",
              "Skew:                           0.829   Prob(JB):                     1.71e-09\n",
              "Kurtosis:                       5.445   Cond. No.                         4.90\n",
              "==============================================================================\n",
              "\n",
              "Warnings:\n",
              "[1] Standard Errors assume that the covariance matrix of the errors is correctly specified.\n",
              "\"\"\""
            ]
          },
          "metadata": {
            "tags": []
          },
          "execution_count": 38
        }
      ]
    },
    {
      "cell_type": "code",
      "metadata": {
        "id": "aKU33HeSJ1sW"
      },
      "source": [
        "# Import required libraries\n",
        "from statsmodels.stats.outliers_influence import variance_inflation_factor"
      ],
      "execution_count": 39,
      "outputs": []
    },
    {
      "cell_type": "code",
      "metadata": {
        "id": "VClRb3wPKh0N",
        "outputId": "2f17ef48-3a03-4109-df75-b4852abdff54",
        "colab": {
          "base_uri": "https://localhost:8080/",
          "height": 137
        }
      },
      "source": [
        "# Create a dataframe that will contain the names of all the feature variables and their respective VIFs\n",
        "\n",
        "vif = pd.DataFrame()\n",
        "vif['Features'] = X_train.columns\n",
        "vif['VIF'] = [variance_inflation_factor(X_train.values, i) for i in range(X_train.shape[1])]\n",
        "vif['VIF'] = round(vif['VIF'], 2)\n",
        "vif = vif.sort_values(by = \"VIF\", ascending = False)\n",
        "vif"
      ],
      "execution_count": 40,
      "outputs": [
        {
          "output_type": "execute_result",
          "data": {
            "text/html": [
              "<div>\n",
              "<style scoped>\n",
              "    .dataframe tbody tr th:only-of-type {\n",
              "        vertical-align: middle;\n",
              "    }\n",
              "\n",
              "    .dataframe tbody tr th {\n",
              "        vertical-align: top;\n",
              "    }\n",
              "\n",
              "    .dataframe thead th {\n",
              "        text-align: right;\n",
              "    }\n",
              "</style>\n",
              "<table border=\"1\" class=\"dataframe\">\n",
              "  <thead>\n",
              "    <tr style=\"text-align: right;\">\n",
              "      <th></th>\n",
              "      <th>Features</th>\n",
              "      <th>VIF</th>\n",
              "    </tr>\n",
              "  </thead>\n",
              "  <tbody>\n",
              "    <tr>\n",
              "      <th>0</th>\n",
              "      <td>Length2</td>\n",
              "      <td>2.04</td>\n",
              "    </tr>\n",
              "    <tr>\n",
              "      <th>1</th>\n",
              "      <td>Pike</td>\n",
              "      <td>1.67</td>\n",
              "    </tr>\n",
              "    <tr>\n",
              "      <th>2</th>\n",
              "      <td>Smelt</td>\n",
              "      <td>1.37</td>\n",
              "    </tr>\n",
              "  </tbody>\n",
              "</table>\n",
              "</div>"
            ],
            "text/plain": [
              "  Features   VIF\n",
              "0  Length2  2.04\n",
              "1     Pike  1.67\n",
              "2    Smelt  1.37"
            ]
          },
          "metadata": {
            "tags": []
          },
          "execution_count": 40
        }
      ]
    },
    {
      "cell_type": "code",
      "metadata": {
        "id": "KOgSnlmkKhyf"
      },
      "source": [
        "# Predict the target variable using final model\n",
        "\n",
        "y_train_weight = lr_9.predict(X_train_lm)"
      ],
      "execution_count": 41,
      "outputs": []
    },
    {
      "cell_type": "code",
      "metadata": {
        "id": "G6zyaVqPKhvr",
        "outputId": "75691d08-0fdb-40b0-e342-ada82ee14522",
        "colab": {
          "base_uri": "https://localhost:8080/",
          "height": 315
        }
      },
      "source": [
        "# Plot the histogram of the error terms\n",
        "\n",
        "fig = plt.figure()\n",
        "sns.distplot((y_train - y_train_weight), bins = 20)\n",
        "fig.suptitle('Error Terms', fontsize = 20)                  # Plot heading \n",
        "plt.xlabel('Errors', fontsize = 18)                         # X-label\n",
        "plt.show()"
      ],
      "execution_count": 42,
      "outputs": [
        {
          "output_type": "display_data",
          "data": {
            "image/png": "[encoded data removed]",
            "text/plain": [
              "<Figure size 432x288 with 1 Axes>"
            ]
          },
          "metadata": {
            "tags": [],
            "needs_background": "light"
          }
        }
      ]
    },
    {
      "cell_type": "code",
      "metadata": {
        "id": "Ha4Swj-FKhtC"
      },
      "source": [
        "# Prepare test dataframe"
      ],
      "execution_count": 43,
      "outputs": []
    },
    {
      "cell_type": "code",
      "metadata": {
        "id": "GY3FRVVbKhqg"
      },
      "source": [
        "# Scale previously scaled variables\n",
        "fish_test[num_vars] = scaler.transform(fish_test[num_vars])"
      ],
      "execution_count": 44,
      "outputs": []
    },
    {
      "cell_type": "code",
      "metadata": {
        "id": "i6iUOoRsKhoF",
        "outputId": "667559a7-45ef-4339-f486-93361435adcc",
        "colab": {
          "base_uri": "https://localhost:8080/",
          "height": 287
        }
      },
      "source": [
        "# Statistical values check\n",
        "fish_test.describe()"
      ],
      "execution_count": 45,
      "outputs": [
        {
          "output_type": "execute_result",
          "data": {
            "text/html": [
              "<div>\n",
              "<style scoped>\n",
              "    .dataframe tbody tr th:only-of-type {\n",
              "        vertical-align: middle;\n",
              "    }\n",
              "\n",
              "    .dataframe tbody tr th {\n",
              "        vertical-align: top;\n",
              "    }\n",
              "\n",
              "    .dataframe thead th {\n",
              "        text-align: right;\n",
              "    }\n",
              "</style>\n",
              "<table border=\"1\" class=\"dataframe\">\n",
              "  <thead>\n",
              "    <tr style=\"text-align: right;\">\n",
              "      <th></th>\n",
              "      <th>Weight</th>\n",
              "      <th>Length1</th>\n",
              "      <th>Length2</th>\n",
              "      <th>Length3</th>\n",
              "      <th>Height</th>\n",
              "      <th>Width</th>\n",
              "      <th>Parkki</th>\n",
              "      <th>Perch</th>\n",
              "      <th>Pike</th>\n",
              "      <th>Roach</th>\n",
              "      <th>Smelt</th>\n",
              "      <th>Whitefish</th>\n",
              "    </tr>\n",
              "  </thead>\n",
              "  <tbody>\n",
              "    <tr>\n",
              "      <th>count</th>\n",
              "      <td>48.000000</td>\n",
              "      <td>48.000000</td>\n",
              "      <td>48.000000</td>\n",
              "      <td>48.000000</td>\n",
              "      <td>48.000000</td>\n",
              "      <td>48.000000</td>\n",
              "      <td>48.000000</td>\n",
              "      <td>48.000000</td>\n",
              "      <td>48.000000</td>\n",
              "      <td>48.000000</td>\n",
              "      <td>48.000000</td>\n",
              "      <td>48.000000</td>\n",
              "    </tr>\n",
              "    <tr>\n",
              "      <th>mean</th>\n",
              "      <td>0.025888</td>\n",
              "      <td>0.036259</td>\n",
              "      <td>0.034979</td>\n",
              "      <td>0.039569</td>\n",
              "      <td>0.098735</td>\n",
              "      <td>0.010812</td>\n",
              "      <td>0.041667</td>\n",
              "      <td>0.333333</td>\n",
              "      <td>0.104167</td>\n",
              "      <td>0.145833</td>\n",
              "      <td>0.104167</td>\n",
              "      <td>0.020833</td>\n",
              "    </tr>\n",
              "    <tr>\n",
              "      <th>std</th>\n",
              "      <td>0.897305</td>\n",
              "      <td>0.918729</td>\n",
              "      <td>0.922990</td>\n",
              "      <td>0.931927</td>\n",
              "      <td>1.125454</td>\n",
              "      <td>1.039884</td>\n",
              "      <td>0.201941</td>\n",
              "      <td>0.476393</td>\n",
              "      <td>0.308709</td>\n",
              "      <td>0.356674</td>\n",
              "      <td>0.308709</td>\n",
              "      <td>0.144338</td>\n",
              "    </tr>\n",
              "    <tr>\n",
              "      <th>min</th>\n",
              "      <td>-1.072250</td>\n",
              "      <td>-1.644829</td>\n",
              "      <td>-1.688114</td>\n",
              "      <td>-1.712993</td>\n",
              "      <td>-1.724831</td>\n",
              "      <td>-2.019783</td>\n",
              "      <td>0.000000</td>\n",
              "      <td>0.000000</td>\n",
              "      <td>0.000000</td>\n",
              "      <td>0.000000</td>\n",
              "      <td>0.000000</td>\n",
              "      <td>0.000000</td>\n",
              "    </tr>\n",
              "    <tr>\n",
              "      <th>25%</th>\n",
              "      <td>-0.733311</td>\n",
              "      <td>-0.689791</td>\n",
              "      <td>-0.670683</td>\n",
              "      <td>-0.699667</td>\n",
              "      <td>-0.630789</td>\n",
              "      <td>-0.625814</td>\n",
              "      <td>0.000000</td>\n",
              "      <td>0.000000</td>\n",
              "      <td>0.000000</td>\n",
              "      <td>0.000000</td>\n",
              "      <td>0.000000</td>\n",
              "      <td>0.000000</td>\n",
              "    </tr>\n",
              "    <tr>\n",
              "      <th>50%</th>\n",
              "      <td>-0.211346</td>\n",
              "      <td>0.196857</td>\n",
              "      <td>0.200749</td>\n",
              "      <td>0.279882</td>\n",
              "      <td>-0.270549</td>\n",
              "      <td>-0.058832</td>\n",
              "      <td>0.000000</td>\n",
              "      <td>0.000000</td>\n",
              "      <td>0.000000</td>\n",
              "      <td>0.000000</td>\n",
              "      <td>0.000000</td>\n",
              "      <td>0.000000</td>\n",
              "    </tr>\n",
              "    <tr>\n",
              "      <th>75%</th>\n",
              "      <td>0.825805</td>\n",
              "      <td>0.758644</td>\n",
              "      <td>0.793870</td>\n",
              "      <td>0.845656</td>\n",
              "      <td>0.881678</td>\n",
              "      <td>0.957349</td>\n",
              "      <td>0.000000</td>\n",
              "      <td>1.000000</td>\n",
              "      <td>0.000000</td>\n",
              "      <td>0.000000</td>\n",
              "      <td>0.000000</td>\n",
              "      <td>0.000000</td>\n",
              "    </tr>\n",
              "    <tr>\n",
              "      <th>max</th>\n",
              "      <td>1.639257</td>\n",
              "      <td>1.823598</td>\n",
              "      <td>1.797614</td>\n",
              "      <td>1.698538</td>\n",
              "      <td>2.452560</td>\n",
              "      <td>1.911305</td>\n",
              "      <td>1.000000</td>\n",
              "      <td>1.000000</td>\n",
              "      <td>1.000000</td>\n",
              "      <td>1.000000</td>\n",
              "      <td>1.000000</td>\n",
              "      <td>1.000000</td>\n",
              "    </tr>\n",
              "  </tbody>\n",
              "</table>\n",
              "</div>"
            ],
            "text/plain": [
              "          Weight    Length1    Length2  ...      Roach      Smelt  Whitefish\n",
              "count  48.000000  48.000000  48.000000  ...  48.000000  48.000000  48.000000\n",
              "mean    0.025888   0.036259   0.034979  ...   0.145833   0.104167   0.020833\n",
              "std     0.897305   0.918729   0.922990  ...   0.356674   0.308709   0.144338\n",
              "min    -1.072250  -1.644829  -1.688114  ...   0.000000   0.000000   0.000000\n",
              "25%    -0.733311  -0.689791  -0.670683  ...   0.000000   0.000000   0.000000\n",
              "50%    -0.211346   0.196857   0.200749  ...   0.000000   0.000000   0.000000\n",
              "75%     0.825805   0.758644   0.793870  ...   0.000000   0.000000   0.000000\n",
              "max     1.639257   1.823598   1.797614  ...   1.000000   1.000000   1.000000\n",
              "\n",
              "[8 rows x 12 columns]"
            ]
          },
          "metadata": {
            "tags": []
          },
          "execution_count": 45
        }
      ]
    },
    {
      "cell_type": "code",
      "metadata": {
        "id": "2NggB7puKhle"
      },
      "source": [
        "# Prepare test dataset\n",
        "\n",
        "y_test = fish_test.pop('Weight')\n",
        "X_test = fish_test"
      ],
      "execution_count": 46,
      "outputs": []
    },
    {
      "cell_type": "code",
      "metadata": {
        "id": "T4cuQ4KELl5E"
      },
      "source": [
        "# Adding constant variable to test dataframe\n",
        "\n",
        "X_test_m1 = sm.add_constant(X_test)"
      ],
      "execution_count": 47,
      "outputs": []
    },
    {
      "cell_type": "code",
      "metadata": {
        "id": "Lcq4hlL1LmI7"
      },
      "source": [
        "# Creating X_test_m1 dataframe by dropping variables from X_test_m1\n",
        "\n",
        "X_test_m1 = X_test_m1.drop([\"Height\", \"Whitefish\", \"Length3\", \"Width\", \"Perch\", \"Roach\", \"Length1\", \"Parkki\"], axis = 1)"
      ],
      "execution_count": 48,
      "outputs": []
    },
    {
      "cell_type": "code",
      "metadata": {
        "id": "XXr0_HUcLmGZ"
      },
      "source": [
        "# Making predictions using the ninth model\n",
        "\n",
        "y_pred_m1 = lr_9.predict(X_test_m1)"
      ],
      "execution_count": 49,
      "outputs": []
    },
    {
      "cell_type": "code",
      "metadata": {
        "id": "cBknDocULmD9",
        "outputId": "fe139623-3718-48e3-c4d8-9fffcf3be842",
        "colab": {
          "base_uri": "https://localhost:8080/",
          "height": 315
        }
      },
      "source": [
        "# Plotting y_test and y_pred to understand the spread\n",
        "\n",
        "fig = plt.figure()\n",
        "plt.scatter(y_test, y_pred_m1)\n",
        "fig.suptitle('y_test vs y_pred', fontsize = 20)              # Plot heading \n",
        "plt.xlabel('y_test', fontsize = 18)                          # X-label\n",
        "plt.ylabel('y_pred', fontsize = 16)  \n",
        "plt.show()"
      ],
      "execution_count": 50,
      "outputs": [
        {
          "output_type": "display_data",
          "data": {
            "image/png": "[encoded data removed]",
            "text/plain": [
              "<Figure size 432x288 with 1 Axes>"
            ]
          },
          "metadata": {
            "tags": [],
            "needs_background": "light"
          }
        }
      ]
    },
    {
      "cell_type": "code",
      "metadata": {
        "id": "BEapspRXLmBZ",
        "outputId": "00aac21c-c7a6-49e9-8cb2-bffc8df6b469",
        "colab": {
          "base_uri": "https://localhost:8080/",
          "height": 483
        }
      },
      "source": [
        "# Check predicted vs actual target variable\n",
        "\n",
        "plt.figure( figsize = [10,8])\n",
        "n = range(1,len(y_test)+1)\n",
        "plt.plot(n, y_test, label = \"Actual\")\n",
        "plt.plot(n, y_pred_m1, label = \"Predicted\")\n",
        "plt.legend()\n",
        "plt.show()"
      ],
      "execution_count": 54,
      "outputs": [
        {
          "output_type": "display_data",
          "data": {
            "image/png": "[encoded data removed]",
            "text/plain": [
              "<Figure size 720x576 with 1 Axes>"
            ]
          },
          "metadata": {
            "tags": [],
            "needs_background": "light"
          }
        }
      ]
    },
    {
      "cell_type": "code",
      "metadata": {
        "id": "R7NfnqteLl-q",
        "outputId": "0da5957b-19e2-430f-9f8c-1088f88d68d9",
        "colab": {
          "base_uri": "https://localhost:8080/",
          "height": 34
        }
      },
      "source": [
        "# Checking R-square value of test dataset\n",
        "\n",
        "from sklearn.metrics import r2_score\n",
        "r2_score(y_test, y_pred_m1)"
      ],
      "execution_count": 52,
      "outputs": [
        {
          "output_type": "execute_result",
          "data": {
            "text/plain": [
              "0.9143237254054878"
            ]
          },
          "metadata": {
            "tags": []
          },
          "execution_count": 52
        }
      ]
    },
    {
      "cell_type": "code",
      "metadata": {
        "id": "cKm-NH3mJ1p4"
      },
      "source": [
        "# The equation of best fitted line is:\n",
        "\n",
        "# Weight = const * 0.0480 + Length2 *\t1.2001 + Smelt * 0.7073 + Pike * -0.9741"
      ],
      "execution_count": 53,
      "outputs": []
    },
    {
      "cell_type": "code",
      "metadata": {
        "id": "LfyIwW85J1nN"
      },
      "source": [
        ""
      ],
      "execution_count": 53,
      "outputs": []
    }
  ]
}